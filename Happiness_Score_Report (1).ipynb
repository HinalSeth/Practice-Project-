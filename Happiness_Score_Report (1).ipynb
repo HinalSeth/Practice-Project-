{
 "cells": [
  {
   "cell_type": "code",
   "execution_count": 1,
   "id": "86589026",
   "metadata": {},
   "outputs": [],
   "source": [
    "import pandas as pd\n",
    "import numpy as np\n",
    "import seaborn as sn\n",
    "import matplotlib.pyplot as plt\n",
    "import sklearn\n",
    "from sklearn.linear_model import LinearRegression\n",
    "from sklearn.metrics import mean_squared_error, mean_absolute_error\n",
    "from sklearn.model_selection import train_test_split\n",
    "from scipy.stats import zscore\n",
    "import warnings\n",
    "warnings.filterwarnings('ignore')"
   ]
  },
  {
   "cell_type": "markdown",
   "id": "cf194b4e",
   "metadata": {},
   "source": [
    "We have imported all the required libraries for our data analysis"
   ]
  },
  {
   "cell_type": "code",
   "execution_count": 2,
   "id": "05f21da5",
   "metadata": {},
   "outputs": [
    {
     "data": {
      "text/html": [
       "<div>\n",
       "<style scoped>\n",
       "    .dataframe tbody tr th:only-of-type {\n",
       "        vertical-align: middle;\n",
       "    }\n",
       "\n",
       "    .dataframe tbody tr th {\n",
       "        vertical-align: top;\n",
       "    }\n",
       "\n",
       "    .dataframe thead th {\n",
       "        text-align: right;\n",
       "    }\n",
       "</style>\n",
       "<table border=\"1\" class=\"dataframe\">\n",
       "  <thead>\n",
       "    <tr style=\"text-align: right;\">\n",
       "      <th></th>\n",
       "      <th>Country</th>\n",
       "      <th>Region</th>\n",
       "      <th>Happiness Rank</th>\n",
       "      <th>Happiness Score</th>\n",
       "      <th>Standard Error</th>\n",
       "      <th>Economy (GDP per Capita)</th>\n",
       "      <th>Family</th>\n",
       "      <th>Health (Life Expectancy)</th>\n",
       "      <th>Freedom</th>\n",
       "      <th>Trust (Government Corruption)</th>\n",
       "      <th>Generosity</th>\n",
       "      <th>Dystopia Residual</th>\n",
       "    </tr>\n",
       "  </thead>\n",
       "  <tbody>\n",
       "    <tr>\n",
       "      <th>0</th>\n",
       "      <td>Switzerland</td>\n",
       "      <td>Western Europe</td>\n",
       "      <td>1</td>\n",
       "      <td>7.587</td>\n",
       "      <td>0.03411</td>\n",
       "      <td>1.39651</td>\n",
       "      <td>1.34951</td>\n",
       "      <td>0.94143</td>\n",
       "      <td>0.66557</td>\n",
       "      <td>0.41978</td>\n",
       "      <td>0.29678</td>\n",
       "      <td>2.51738</td>\n",
       "    </tr>\n",
       "    <tr>\n",
       "      <th>1</th>\n",
       "      <td>Iceland</td>\n",
       "      <td>Western Europe</td>\n",
       "      <td>2</td>\n",
       "      <td>7.561</td>\n",
       "      <td>0.04884</td>\n",
       "      <td>1.30232</td>\n",
       "      <td>1.40223</td>\n",
       "      <td>0.94784</td>\n",
       "      <td>0.62877</td>\n",
       "      <td>0.14145</td>\n",
       "      <td>0.43630</td>\n",
       "      <td>2.70201</td>\n",
       "    </tr>\n",
       "    <tr>\n",
       "      <th>2</th>\n",
       "      <td>Denmark</td>\n",
       "      <td>Western Europe</td>\n",
       "      <td>3</td>\n",
       "      <td>7.527</td>\n",
       "      <td>0.03328</td>\n",
       "      <td>1.32548</td>\n",
       "      <td>1.36058</td>\n",
       "      <td>0.87464</td>\n",
       "      <td>0.64938</td>\n",
       "      <td>0.48357</td>\n",
       "      <td>0.34139</td>\n",
       "      <td>2.49204</td>\n",
       "    </tr>\n",
       "    <tr>\n",
       "      <th>3</th>\n",
       "      <td>Norway</td>\n",
       "      <td>Western Europe</td>\n",
       "      <td>4</td>\n",
       "      <td>7.522</td>\n",
       "      <td>0.03880</td>\n",
       "      <td>1.45900</td>\n",
       "      <td>1.33095</td>\n",
       "      <td>0.88521</td>\n",
       "      <td>0.66973</td>\n",
       "      <td>0.36503</td>\n",
       "      <td>0.34699</td>\n",
       "      <td>2.46531</td>\n",
       "    </tr>\n",
       "    <tr>\n",
       "      <th>4</th>\n",
       "      <td>Canada</td>\n",
       "      <td>North America</td>\n",
       "      <td>5</td>\n",
       "      <td>7.427</td>\n",
       "      <td>0.03553</td>\n",
       "      <td>1.32629</td>\n",
       "      <td>1.32261</td>\n",
       "      <td>0.90563</td>\n",
       "      <td>0.63297</td>\n",
       "      <td>0.32957</td>\n",
       "      <td>0.45811</td>\n",
       "      <td>2.45176</td>\n",
       "    </tr>\n",
       "    <tr>\n",
       "      <th>...</th>\n",
       "      <td>...</td>\n",
       "      <td>...</td>\n",
       "      <td>...</td>\n",
       "      <td>...</td>\n",
       "      <td>...</td>\n",
       "      <td>...</td>\n",
       "      <td>...</td>\n",
       "      <td>...</td>\n",
       "      <td>...</td>\n",
       "      <td>...</td>\n",
       "      <td>...</td>\n",
       "      <td>...</td>\n",
       "    </tr>\n",
       "    <tr>\n",
       "      <th>153</th>\n",
       "      <td>Rwanda</td>\n",
       "      <td>Sub-Saharan Africa</td>\n",
       "      <td>154</td>\n",
       "      <td>3.465</td>\n",
       "      <td>0.03464</td>\n",
       "      <td>0.22208</td>\n",
       "      <td>0.77370</td>\n",
       "      <td>0.42864</td>\n",
       "      <td>0.59201</td>\n",
       "      <td>0.55191</td>\n",
       "      <td>0.22628</td>\n",
       "      <td>0.67042</td>\n",
       "    </tr>\n",
       "    <tr>\n",
       "      <th>154</th>\n",
       "      <td>Benin</td>\n",
       "      <td>Sub-Saharan Africa</td>\n",
       "      <td>155</td>\n",
       "      <td>3.340</td>\n",
       "      <td>0.03656</td>\n",
       "      <td>0.28665</td>\n",
       "      <td>0.35386</td>\n",
       "      <td>0.31910</td>\n",
       "      <td>0.48450</td>\n",
       "      <td>0.08010</td>\n",
       "      <td>0.18260</td>\n",
       "      <td>1.63328</td>\n",
       "    </tr>\n",
       "    <tr>\n",
       "      <th>155</th>\n",
       "      <td>Syria</td>\n",
       "      <td>Middle East and Northern Africa</td>\n",
       "      <td>156</td>\n",
       "      <td>3.006</td>\n",
       "      <td>0.05015</td>\n",
       "      <td>0.66320</td>\n",
       "      <td>0.47489</td>\n",
       "      <td>0.72193</td>\n",
       "      <td>0.15684</td>\n",
       "      <td>0.18906</td>\n",
       "      <td>0.47179</td>\n",
       "      <td>0.32858</td>\n",
       "    </tr>\n",
       "    <tr>\n",
       "      <th>156</th>\n",
       "      <td>Burundi</td>\n",
       "      <td>Sub-Saharan Africa</td>\n",
       "      <td>157</td>\n",
       "      <td>2.905</td>\n",
       "      <td>0.08658</td>\n",
       "      <td>0.01530</td>\n",
       "      <td>0.41587</td>\n",
       "      <td>0.22396</td>\n",
       "      <td>0.11850</td>\n",
       "      <td>0.10062</td>\n",
       "      <td>0.19727</td>\n",
       "      <td>1.83302</td>\n",
       "    </tr>\n",
       "    <tr>\n",
       "      <th>157</th>\n",
       "      <td>Togo</td>\n",
       "      <td>Sub-Saharan Africa</td>\n",
       "      <td>158</td>\n",
       "      <td>2.839</td>\n",
       "      <td>0.06727</td>\n",
       "      <td>0.20868</td>\n",
       "      <td>0.13995</td>\n",
       "      <td>0.28443</td>\n",
       "      <td>0.36453</td>\n",
       "      <td>0.10731</td>\n",
       "      <td>0.16681</td>\n",
       "      <td>1.56726</td>\n",
       "    </tr>\n",
       "  </tbody>\n",
       "</table>\n",
       "<p>158 rows × 12 columns</p>\n",
       "</div>"
      ],
      "text/plain": [
       "         Country                           Region  Happiness Rank  \\\n",
       "0    Switzerland                   Western Europe               1   \n",
       "1        Iceland                   Western Europe               2   \n",
       "2        Denmark                   Western Europe               3   \n",
       "3         Norway                   Western Europe               4   \n",
       "4         Canada                    North America               5   \n",
       "..           ...                              ...             ...   \n",
       "153       Rwanda               Sub-Saharan Africa             154   \n",
       "154        Benin               Sub-Saharan Africa             155   \n",
       "155        Syria  Middle East and Northern Africa             156   \n",
       "156      Burundi               Sub-Saharan Africa             157   \n",
       "157         Togo               Sub-Saharan Africa             158   \n",
       "\n",
       "     Happiness Score  Standard Error  Economy (GDP per Capita)   Family  \\\n",
       "0              7.587         0.03411                   1.39651  1.34951   \n",
       "1              7.561         0.04884                   1.30232  1.40223   \n",
       "2              7.527         0.03328                   1.32548  1.36058   \n",
       "3              7.522         0.03880                   1.45900  1.33095   \n",
       "4              7.427         0.03553                   1.32629  1.32261   \n",
       "..               ...             ...                       ...      ...   \n",
       "153            3.465         0.03464                   0.22208  0.77370   \n",
       "154            3.340         0.03656                   0.28665  0.35386   \n",
       "155            3.006         0.05015                   0.66320  0.47489   \n",
       "156            2.905         0.08658                   0.01530  0.41587   \n",
       "157            2.839         0.06727                   0.20868  0.13995   \n",
       "\n",
       "     Health (Life Expectancy)  Freedom  Trust (Government Corruption)  \\\n",
       "0                     0.94143  0.66557                        0.41978   \n",
       "1                     0.94784  0.62877                        0.14145   \n",
       "2                     0.87464  0.64938                        0.48357   \n",
       "3                     0.88521  0.66973                        0.36503   \n",
       "4                     0.90563  0.63297                        0.32957   \n",
       "..                        ...      ...                            ...   \n",
       "153                   0.42864  0.59201                        0.55191   \n",
       "154                   0.31910  0.48450                        0.08010   \n",
       "155                   0.72193  0.15684                        0.18906   \n",
       "156                   0.22396  0.11850                        0.10062   \n",
       "157                   0.28443  0.36453                        0.10731   \n",
       "\n",
       "     Generosity  Dystopia Residual  \n",
       "0       0.29678            2.51738  \n",
       "1       0.43630            2.70201  \n",
       "2       0.34139            2.49204  \n",
       "3       0.34699            2.46531  \n",
       "4       0.45811            2.45176  \n",
       "..          ...                ...  \n",
       "153     0.22628            0.67042  \n",
       "154     0.18260            1.63328  \n",
       "155     0.47179            0.32858  \n",
       "156     0.19727            1.83302  \n",
       "157     0.16681            1.56726  \n",
       "\n",
       "[158 rows x 12 columns]"
      ]
     },
     "execution_count": 2,
     "metadata": {},
     "output_type": "execute_result"
    }
   ],
   "source": [
    "hs = pd.read_csv('happiness_score_dataset.csv')\n",
    "hs"
   ]
  },
  {
   "cell_type": "markdown",
   "id": "45806163",
   "metadata": {},
   "source": [
    "The dataset has been successfully loaded."
   ]
  },
  {
   "cell_type": "code",
   "execution_count": 3,
   "id": "62801fcb",
   "metadata": {},
   "outputs": [
    {
     "data": {
      "text/plain": [
       "Index(['Country', 'Region', 'Happiness Rank', 'Happiness Score',\n",
       "       'Standard Error', 'Economy (GDP per Capita)', 'Family',\n",
       "       'Health (Life Expectancy)', 'Freedom', 'Trust (Government Corruption)',\n",
       "       'Generosity', 'Dystopia Residual'],\n",
       "      dtype='object')"
      ]
     },
     "execution_count": 3,
     "metadata": {},
     "output_type": "execute_result"
    }
   ],
   "source": [
    "hs.keys()"
   ]
  },
  {
   "cell_type": "markdown",
   "id": "5ed0edc7",
   "metadata": {},
   "source": [
    "It gives us the names/labels of all the columns."
   ]
  },
  {
   "cell_type": "code",
   "execution_count": 4,
   "id": "10182cdc",
   "metadata": {},
   "outputs": [
    {
     "data": {
      "text/plain": [
       "(158, 12)"
      ]
     },
     "execution_count": 4,
     "metadata": {},
     "output_type": "execute_result"
    }
   ],
   "source": [
    "hs.shape"
   ]
  },
  {
   "cell_type": "markdown",
   "id": "8e4e0076",
   "metadata": {},
   "source": [
    "There are 158 rows and 12 columns in the dataset."
   ]
  },
  {
   "cell_type": "code",
   "execution_count": 5,
   "id": "a3eb7ce9",
   "metadata": {},
   "outputs": [
    {
     "data": {
      "text/plain": [
       "Country                           object\n",
       "Region                            object\n",
       "Happiness Rank                     int64\n",
       "Happiness Score                  float64\n",
       "Standard Error                   float64\n",
       "Economy (GDP per Capita)         float64\n",
       "Family                           float64\n",
       "Health (Life Expectancy)         float64\n",
       "Freedom                          float64\n",
       "Trust (Government Corruption)    float64\n",
       "Generosity                       float64\n",
       "Dystopia Residual                float64\n",
       "dtype: object"
      ]
     },
     "execution_count": 5,
     "metadata": {},
     "output_type": "execute_result"
    }
   ],
   "source": [
    "hs.dtypes"
   ]
  },
  {
   "cell_type": "markdown",
   "id": "d89272d4",
   "metadata": {},
   "source": [
    "It says that two columns \"country\" and \"Region\" has string data type ; \"happiness rank\" has integer datatype and rest all columns have float data type."
   ]
  },
  {
   "cell_type": "code",
   "execution_count": 6,
   "id": "898af528",
   "metadata": {},
   "outputs": [
    {
     "name": "stdout",
     "output_type": "stream",
     "text": [
      "<class 'pandas.core.frame.DataFrame'>\n",
      "RangeIndex: 158 entries, 0 to 157\n",
      "Data columns (total 12 columns):\n",
      " #   Column                         Non-Null Count  Dtype  \n",
      "---  ------                         --------------  -----  \n",
      " 0   Country                        158 non-null    object \n",
      " 1   Region                         158 non-null    object \n",
      " 2   Happiness Rank                 158 non-null    int64  \n",
      " 3   Happiness Score                158 non-null    float64\n",
      " 4   Standard Error                 158 non-null    float64\n",
      " 5   Economy (GDP per Capita)       158 non-null    float64\n",
      " 6   Family                         158 non-null    float64\n",
      " 7   Health (Life Expectancy)       158 non-null    float64\n",
      " 8   Freedom                        158 non-null    float64\n",
      " 9   Trust (Government Corruption)  158 non-null    float64\n",
      " 10  Generosity                     158 non-null    float64\n",
      " 11  Dystopia Residual              158 non-null    float64\n",
      "dtypes: float64(9), int64(1), object(2)\n",
      "memory usage: 14.9+ KB\n"
     ]
    }
   ],
   "source": [
    "hs.info()"
   ]
  },
  {
   "cell_type": "markdown",
   "id": "78d53231",
   "metadata": {},
   "source": [
    "It gives the information about the total non_null value count in each row for each column alongwith it's datatype. It also gives us the information og total memory usage."
   ]
  },
  {
   "cell_type": "code",
   "execution_count": 7,
   "id": "2c75500e",
   "metadata": {},
   "outputs": [
    {
     "data": {
      "text/plain": [
       "Index(['Country', 'Region', 'Happiness Rank', 'Happiness Score',\n",
       "       'Standard Error', 'Economy (GDP per Capita)', 'Family',\n",
       "       'Health (Life Expectancy)', 'Freedom', 'Trust (Government Corruption)',\n",
       "       'Generosity', 'Dystopia Residual'],\n",
       "      dtype='object')"
      ]
     },
     "execution_count": 7,
     "metadata": {},
     "output_type": "execute_result"
    }
   ],
   "source": [
    "hs.columns"
   ]
  },
  {
   "cell_type": "markdown",
   "id": "9c490559",
   "metadata": {},
   "source": [
    "It gives us the names of all the columns."
   ]
  },
  {
   "cell_type": "code",
   "execution_count": 8,
   "id": "c436bae1",
   "metadata": {},
   "outputs": [
    {
     "data": {
      "text/html": [
       "<div>\n",
       "<style scoped>\n",
       "    .dataframe tbody tr th:only-of-type {\n",
       "        vertical-align: middle;\n",
       "    }\n",
       "\n",
       "    .dataframe tbody tr th {\n",
       "        vertical-align: top;\n",
       "    }\n",
       "\n",
       "    .dataframe thead th {\n",
       "        text-align: right;\n",
       "    }\n",
       "</style>\n",
       "<table border=\"1\" class=\"dataframe\">\n",
       "  <thead>\n",
       "    <tr style=\"text-align: right;\">\n",
       "      <th></th>\n",
       "      <th>Happiness Rank</th>\n",
       "      <th>Happiness Score</th>\n",
       "      <th>Standard Error</th>\n",
       "      <th>Economy (GDP per Capita)</th>\n",
       "      <th>Family</th>\n",
       "      <th>Health (Life Expectancy)</th>\n",
       "      <th>Freedom</th>\n",
       "      <th>Trust (Government Corruption)</th>\n",
       "      <th>Generosity</th>\n",
       "      <th>Dystopia Residual</th>\n",
       "    </tr>\n",
       "  </thead>\n",
       "  <tbody>\n",
       "    <tr>\n",
       "      <th>count</th>\n",
       "      <td>158.000000</td>\n",
       "      <td>158.000000</td>\n",
       "      <td>158.000000</td>\n",
       "      <td>158.000000</td>\n",
       "      <td>158.000000</td>\n",
       "      <td>158.000000</td>\n",
       "      <td>158.000000</td>\n",
       "      <td>158.000000</td>\n",
       "      <td>158.000000</td>\n",
       "      <td>158.000000</td>\n",
       "    </tr>\n",
       "    <tr>\n",
       "      <th>mean</th>\n",
       "      <td>79.493671</td>\n",
       "      <td>5.375734</td>\n",
       "      <td>0.047885</td>\n",
       "      <td>0.846137</td>\n",
       "      <td>0.991046</td>\n",
       "      <td>0.630259</td>\n",
       "      <td>0.428615</td>\n",
       "      <td>0.143422</td>\n",
       "      <td>0.237296</td>\n",
       "      <td>2.098977</td>\n",
       "    </tr>\n",
       "    <tr>\n",
       "      <th>std</th>\n",
       "      <td>45.754363</td>\n",
       "      <td>1.145010</td>\n",
       "      <td>0.017146</td>\n",
       "      <td>0.403121</td>\n",
       "      <td>0.272369</td>\n",
       "      <td>0.247078</td>\n",
       "      <td>0.150693</td>\n",
       "      <td>0.120034</td>\n",
       "      <td>0.126685</td>\n",
       "      <td>0.553550</td>\n",
       "    </tr>\n",
       "    <tr>\n",
       "      <th>min</th>\n",
       "      <td>1.000000</td>\n",
       "      <td>2.839000</td>\n",
       "      <td>0.018480</td>\n",
       "      <td>0.000000</td>\n",
       "      <td>0.000000</td>\n",
       "      <td>0.000000</td>\n",
       "      <td>0.000000</td>\n",
       "      <td>0.000000</td>\n",
       "      <td>0.000000</td>\n",
       "      <td>0.328580</td>\n",
       "    </tr>\n",
       "    <tr>\n",
       "      <th>25%</th>\n",
       "      <td>40.250000</td>\n",
       "      <td>4.526000</td>\n",
       "      <td>0.037268</td>\n",
       "      <td>0.545808</td>\n",
       "      <td>0.856823</td>\n",
       "      <td>0.439185</td>\n",
       "      <td>0.328330</td>\n",
       "      <td>0.061675</td>\n",
       "      <td>0.150553</td>\n",
       "      <td>1.759410</td>\n",
       "    </tr>\n",
       "    <tr>\n",
       "      <th>50%</th>\n",
       "      <td>79.500000</td>\n",
       "      <td>5.232500</td>\n",
       "      <td>0.043940</td>\n",
       "      <td>0.910245</td>\n",
       "      <td>1.029510</td>\n",
       "      <td>0.696705</td>\n",
       "      <td>0.435515</td>\n",
       "      <td>0.107220</td>\n",
       "      <td>0.216130</td>\n",
       "      <td>2.095415</td>\n",
       "    </tr>\n",
       "    <tr>\n",
       "      <th>75%</th>\n",
       "      <td>118.750000</td>\n",
       "      <td>6.243750</td>\n",
       "      <td>0.052300</td>\n",
       "      <td>1.158448</td>\n",
       "      <td>1.214405</td>\n",
       "      <td>0.811013</td>\n",
       "      <td>0.549092</td>\n",
       "      <td>0.180255</td>\n",
       "      <td>0.309883</td>\n",
       "      <td>2.462415</td>\n",
       "    </tr>\n",
       "    <tr>\n",
       "      <th>max</th>\n",
       "      <td>158.000000</td>\n",
       "      <td>7.587000</td>\n",
       "      <td>0.136930</td>\n",
       "      <td>1.690420</td>\n",
       "      <td>1.402230</td>\n",
       "      <td>1.025250</td>\n",
       "      <td>0.669730</td>\n",
       "      <td>0.551910</td>\n",
       "      <td>0.795880</td>\n",
       "      <td>3.602140</td>\n",
       "    </tr>\n",
       "  </tbody>\n",
       "</table>\n",
       "</div>"
      ],
      "text/plain": [
       "       Happiness Rank  Happiness Score  Standard Error  \\\n",
       "count      158.000000       158.000000      158.000000   \n",
       "mean        79.493671         5.375734        0.047885   \n",
       "std         45.754363         1.145010        0.017146   \n",
       "min          1.000000         2.839000        0.018480   \n",
       "25%         40.250000         4.526000        0.037268   \n",
       "50%         79.500000         5.232500        0.043940   \n",
       "75%        118.750000         6.243750        0.052300   \n",
       "max        158.000000         7.587000        0.136930   \n",
       "\n",
       "       Economy (GDP per Capita)      Family  Health (Life Expectancy)  \\\n",
       "count                158.000000  158.000000                158.000000   \n",
       "mean                   0.846137    0.991046                  0.630259   \n",
       "std                    0.403121    0.272369                  0.247078   \n",
       "min                    0.000000    0.000000                  0.000000   \n",
       "25%                    0.545808    0.856823                  0.439185   \n",
       "50%                    0.910245    1.029510                  0.696705   \n",
       "75%                    1.158448    1.214405                  0.811013   \n",
       "max                    1.690420    1.402230                  1.025250   \n",
       "\n",
       "          Freedom  Trust (Government Corruption)  Generosity  \\\n",
       "count  158.000000                     158.000000  158.000000   \n",
       "mean     0.428615                       0.143422    0.237296   \n",
       "std      0.150693                       0.120034    0.126685   \n",
       "min      0.000000                       0.000000    0.000000   \n",
       "25%      0.328330                       0.061675    0.150553   \n",
       "50%      0.435515                       0.107220    0.216130   \n",
       "75%      0.549092                       0.180255    0.309883   \n",
       "max      0.669730                       0.551910    0.795880   \n",
       "\n",
       "       Dystopia Residual  \n",
       "count         158.000000  \n",
       "mean            2.098977  \n",
       "std             0.553550  \n",
       "min             0.328580  \n",
       "25%             1.759410  \n",
       "50%             2.095415  \n",
       "75%             2.462415  \n",
       "max             3.602140  "
      ]
     },
     "execution_count": 8,
     "metadata": {},
     "output_type": "execute_result"
    }
   ],
   "source": [
    "hs.describe()"
   ]
  },
  {
   "cell_type": "markdown",
   "id": "c5af5a17",
   "metadata": {},
   "source": [
    "It gives the statistical data of the dataset. On looking upon count , we can say that none column has a null value. The mean gives the mean of datas of each column. std gives the value of Stabdard deviation for each column. "
   ]
  },
  {
   "cell_type": "code",
   "execution_count": 9,
   "id": "c671441f",
   "metadata": {},
   "outputs": [
    {
     "data": {
      "text/plain": [
       "Country                          0\n",
       "Region                           0\n",
       "Happiness Rank                   0\n",
       "Happiness Score                  0\n",
       "Standard Error                   0\n",
       "Economy (GDP per Capita)         0\n",
       "Family                           0\n",
       "Health (Life Expectancy)         0\n",
       "Freedom                          0\n",
       "Trust (Government Corruption)    0\n",
       "Generosity                       0\n",
       "Dystopia Residual                0\n",
       "dtype: int64"
      ]
     },
     "execution_count": 9,
     "metadata": {},
     "output_type": "execute_result"
    }
   ],
   "source": [
    "hs.isnull().sum()"
   ]
  },
  {
   "cell_type": "markdown",
   "id": "67c482fb",
   "metadata": {},
   "source": [
    "There are no missing values in dataset."
   ]
  },
  {
   "cell_type": "markdown",
   "id": "0ae944ee",
   "metadata": {},
   "source": [
    "# Finding Maximums and Minimums for Each Variable"
   ]
  },
  {
   "cell_type": "code",
   "execution_count": 10,
   "id": "5b0d0051",
   "metadata": {},
   "outputs": [
    {
     "data": {
      "text/html": [
       "<div>\n",
       "<style scoped>\n",
       "    .dataframe tbody tr th:only-of-type {\n",
       "        vertical-align: middle;\n",
       "    }\n",
       "\n",
       "    .dataframe tbody tr th {\n",
       "        vertical-align: top;\n",
       "    }\n",
       "\n",
       "    .dataframe thead th {\n",
       "        text-align: right;\n",
       "    }\n",
       "</style>\n",
       "<table border=\"1\" class=\"dataframe\">\n",
       "  <thead>\n",
       "    <tr style=\"text-align: right;\">\n",
       "      <th></th>\n",
       "      <th>Country</th>\n",
       "      <th>Region</th>\n",
       "      <th>Happiness Rank</th>\n",
       "      <th>Happiness Score</th>\n",
       "      <th>Standard Error</th>\n",
       "      <th>Economy (GDP per Capita)</th>\n",
       "      <th>Family</th>\n",
       "      <th>Health (Life Expectancy)</th>\n",
       "      <th>Freedom</th>\n",
       "      <th>Trust (Government Corruption)</th>\n",
       "      <th>Generosity</th>\n",
       "      <th>Dystopia Residual</th>\n",
       "    </tr>\n",
       "  </thead>\n",
       "  <tbody>\n",
       "    <tr>\n",
       "      <th>0</th>\n",
       "      <td>Switzerland</td>\n",
       "      <td>Western Europe</td>\n",
       "      <td>1</td>\n",
       "      <td>7.587</td>\n",
       "      <td>0.03411</td>\n",
       "      <td>1.39651</td>\n",
       "      <td>1.34951</td>\n",
       "      <td>0.94143</td>\n",
       "      <td>0.66557</td>\n",
       "      <td>0.41978</td>\n",
       "      <td>0.29678</td>\n",
       "      <td>2.51738</td>\n",
       "    </tr>\n",
       "  </tbody>\n",
       "</table>\n",
       "</div>"
      ],
      "text/plain": [
       "       Country          Region  Happiness Rank  Happiness Score  \\\n",
       "0  Switzerland  Western Europe               1            7.587   \n",
       "\n",
       "   Standard Error  Economy (GDP per Capita)   Family  \\\n",
       "0         0.03411                   1.39651  1.34951   \n",
       "\n",
       "   Health (Life Expectancy)  Freedom  Trust (Government Corruption)  \\\n",
       "0                   0.94143  0.66557                        0.41978   \n",
       "\n",
       "   Generosity  Dystopia Residual  \n",
       "0     0.29678            2.51738  "
      ]
     },
     "execution_count": 10,
     "metadata": {},
     "output_type": "execute_result"
    }
   ],
   "source": [
    "hs.head(1)"
   ]
  },
  {
   "cell_type": "markdown",
   "id": "15969c90",
   "metadata": {},
   "source": [
    "The world's happiest country is Switzerland with a happiness score of 7.587"
   ]
  },
  {
   "cell_type": "code",
   "execution_count": 11,
   "id": "e9025e6c",
   "metadata": {},
   "outputs": [
    {
     "data": {
      "text/html": [
       "<div>\n",
       "<style scoped>\n",
       "    .dataframe tbody tr th:only-of-type {\n",
       "        vertical-align: middle;\n",
       "    }\n",
       "\n",
       "    .dataframe tbody tr th {\n",
       "        vertical-align: top;\n",
       "    }\n",
       "\n",
       "    .dataframe thead th {\n",
       "        text-align: right;\n",
       "    }\n",
       "</style>\n",
       "<table border=\"1\" class=\"dataframe\">\n",
       "  <thead>\n",
       "    <tr style=\"text-align: right;\">\n",
       "      <th></th>\n",
       "      <th>Country</th>\n",
       "      <th>Region</th>\n",
       "      <th>Happiness Rank</th>\n",
       "      <th>Happiness Score</th>\n",
       "      <th>Standard Error</th>\n",
       "      <th>Economy (GDP per Capita)</th>\n",
       "      <th>Family</th>\n",
       "      <th>Health (Life Expectancy)</th>\n",
       "      <th>Freedom</th>\n",
       "      <th>Trust (Government Corruption)</th>\n",
       "      <th>Generosity</th>\n",
       "      <th>Dystopia Residual</th>\n",
       "    </tr>\n",
       "  </thead>\n",
       "  <tbody>\n",
       "    <tr>\n",
       "      <th>157</th>\n",
       "      <td>Togo</td>\n",
       "      <td>Sub-Saharan Africa</td>\n",
       "      <td>158</td>\n",
       "      <td>2.839</td>\n",
       "      <td>0.06727</td>\n",
       "      <td>0.20868</td>\n",
       "      <td>0.13995</td>\n",
       "      <td>0.28443</td>\n",
       "      <td>0.36453</td>\n",
       "      <td>0.10731</td>\n",
       "      <td>0.16681</td>\n",
       "      <td>1.56726</td>\n",
       "    </tr>\n",
       "  </tbody>\n",
       "</table>\n",
       "</div>"
      ],
      "text/plain": [
       "    Country              Region  Happiness Rank  Happiness Score  \\\n",
       "157    Togo  Sub-Saharan Africa             158            2.839   \n",
       "\n",
       "     Standard Error  Economy (GDP per Capita)   Family  \\\n",
       "157         0.06727                   0.20868  0.13995   \n",
       "\n",
       "     Health (Life Expectancy)  Freedom  Trust (Government Corruption)  \\\n",
       "157                   0.28443  0.36453                        0.10731   \n",
       "\n",
       "     Generosity  Dystopia Residual  \n",
       "157     0.16681            1.56726  "
      ]
     },
     "execution_count": 11,
     "metadata": {},
     "output_type": "execute_result"
    }
   ],
   "source": [
    "hs.tail(1)"
   ]
  },
  {
   "cell_type": "markdown",
   "id": "320f2a78",
   "metadata": {},
   "source": [
    "The world's Least Happy country is Togo with a happiness score of 2.839"
   ]
  },
  {
   "cell_type": "code",
   "execution_count": 12,
   "id": "6a88d726",
   "metadata": {},
   "outputs": [
    {
     "data": {
      "text/plain": [
       "27"
      ]
     },
     "execution_count": 12,
     "metadata": {},
     "output_type": "execute_result"
    }
   ],
   "source": [
    "gdp = hs[\"Economy (GDP per Capita)\"]\n",
    "gdp.idxmax()"
   ]
  },
  {
   "cell_type": "markdown",
   "id": "b6fa04ae",
   "metadata": {},
   "source": [
    "The country with maximum GDP has a index value 27"
   ]
  },
  {
   "cell_type": "code",
   "execution_count": 13,
   "id": "68ce59a7",
   "metadata": {},
   "outputs": [
    {
     "data": {
      "text/plain": [
       "'Qatar'"
      ]
     },
     "execution_count": 13,
     "metadata": {},
     "output_type": "execute_result"
    }
   ],
   "source": [
    "hs.Country[27]"
   ]
  },
  {
   "cell_type": "markdown",
   "id": "77811adf",
   "metadata": {},
   "source": [
    "The Country with maximum GDP is Qatar."
   ]
  },
  {
   "cell_type": "code",
   "execution_count": 14,
   "id": "f94319ff",
   "metadata": {},
   "outputs": [
    {
     "data": {
      "text/plain": [
       "119"
      ]
     },
     "execution_count": 14,
     "metadata": {},
     "output_type": "execute_result"
    }
   ],
   "source": [
    "gdp.idxmin()"
   ]
  },
  {
   "cell_type": "markdown",
   "id": "f8909a69",
   "metadata": {},
   "source": [
    "The Country with least GDP is at index number 119"
   ]
  },
  {
   "cell_type": "code",
   "execution_count": 15,
   "id": "67bd2b49",
   "metadata": {},
   "outputs": [
    {
     "data": {
      "text/plain": [
       "Country                            Congo (Kinshasa)\n",
       "Region                           Sub-Saharan Africa\n",
       "Happiness Rank                                  120\n",
       "Happiness Score                               4.517\n",
       "Standard Error                               0.0368\n",
       "Economy (GDP per Capita)                        0.0\n",
       "Family                                       1.0012\n",
       "Health (Life Expectancy)                    0.09806\n",
       "Freedom                                     0.22605\n",
       "Trust (Government Corruption)               0.07625\n",
       "Generosity                                  0.24834\n",
       "Dystopia Residual                           2.86712\n",
       "Name: 119, dtype: object"
      ]
     },
     "execution_count": 15,
     "metadata": {},
     "output_type": "execute_result"
    }
   ],
   "source": [
    "mingdp=hs.loc[119]\n",
    "mingdp"
   ]
  },
  {
   "cell_type": "markdown",
   "id": "76d141e7",
   "metadata": {},
   "source": [
    "The country with least GDP is Congo(Kinshasa)"
   ]
  },
  {
   "cell_type": "code",
   "execution_count": 16,
   "id": "dd3d5110",
   "metadata": {},
   "outputs": [
    {
     "data": {
      "text/plain": [
       "64"
      ]
     },
     "execution_count": 16,
     "metadata": {},
     "output_type": "execute_result"
    }
   ],
   "source": [
    "std = hs[\"Standard Error\"]\n",
    "std.idxmax()"
   ]
  },
  {
   "cell_type": "markdown",
   "id": "a895c6fa",
   "metadata": {},
   "source": [
    "The Country with least Standard Error Is at index 64"
   ]
  },
  {
   "cell_type": "code",
   "execution_count": 17,
   "id": "e08cd22a",
   "metadata": {},
   "outputs": [
    {
     "data": {
      "text/plain": [
       "Country                                              Jamaica\n",
       "Region                           Latin America and Caribbean\n",
       "Happiness Rank                                            65\n",
       "Happiness Score                                        5.709\n",
       "Standard Error                                       0.13693\n",
       "Economy (GDP per Capita)                             0.81038\n",
       "Family                                               1.15102\n",
       "Health (Life Expectancy)                             0.68741\n",
       "Freedom                                              0.50442\n",
       "Trust (Government Corruption)                        0.02299\n",
       "Generosity                                            0.2123\n",
       "Dystopia Residual                                    2.32038\n",
       "Name: 64, dtype: object"
      ]
     },
     "execution_count": 17,
     "metadata": {},
     "output_type": "execute_result"
    }
   ],
   "source": [
    "maxstd=hs.loc[64]\n",
    "maxstd"
   ]
  },
  {
   "cell_type": "markdown",
   "id": "c63a3047",
   "metadata": {},
   "source": [
    "The Country with maximum Standard Error is Jamaica."
   ]
  },
  {
   "cell_type": "code",
   "execution_count": 18,
   "id": "da9f243e",
   "metadata": {},
   "outputs": [
    {
     "data": {
      "text/plain": [
       "25"
      ]
     },
     "execution_count": 18,
     "metadata": {},
     "output_type": "execute_result"
    }
   ],
   "source": [
    "std.idxmin()"
   ]
  },
  {
   "cell_type": "markdown",
   "id": "5ea86771",
   "metadata": {},
   "source": [
    "The country with least standard error has a index value of 25"
   ]
  },
  {
   "cell_type": "code",
   "execution_count": 19,
   "id": "7621166c",
   "metadata": {},
   "outputs": [
    {
     "data": {
      "text/plain": [
       "Country                                 Germany\n",
       "Region                           Western Europe\n",
       "Happiness Rank                               26\n",
       "Happiness Score                            6.75\n",
       "Standard Error                          0.01848\n",
       "Economy (GDP per Capita)                1.32792\n",
       "Family                                  1.29937\n",
       "Health (Life Expectancy)                0.89186\n",
       "Freedom                                 0.61477\n",
       "Trust (Government Corruption)           0.21843\n",
       "Generosity                              0.28214\n",
       "Dystopia Residual                       2.11569\n",
       "Name: 25, dtype: object"
      ]
     },
     "execution_count": 19,
     "metadata": {},
     "output_type": "execute_result"
    }
   ],
   "source": [
    "minstd = hs.loc[25]\n",
    "minstd"
   ]
  },
  {
   "cell_type": "markdown",
   "id": "c87d0ad8",
   "metadata": {},
   "source": [
    "The country with minimum Standard error is Germany."
   ]
  },
  {
   "cell_type": "code",
   "execution_count": 20,
   "id": "b8dee050",
   "metadata": {},
   "outputs": [
    {
     "data": {
      "text/plain": [
       "1"
      ]
     },
     "execution_count": 20,
     "metadata": {},
     "output_type": "execute_result"
    }
   ],
   "source": [
    "fam = hs[\"Family\"]\n",
    "fam.idxmax()"
   ]
  },
  {
   "cell_type": "markdown",
   "id": "ddf308fe",
   "metadata": {},
   "source": [
    "The country with maximum Faamily support has an index value of 1"
   ]
  },
  {
   "cell_type": "code",
   "execution_count": 21,
   "id": "98360ddb",
   "metadata": {},
   "outputs": [
    {
     "data": {
      "text/plain": [
       "Country                                 Iceland\n",
       "Region                           Western Europe\n",
       "Happiness Rank                                2\n",
       "Happiness Score                           7.561\n",
       "Standard Error                          0.04884\n",
       "Economy (GDP per Capita)                1.30232\n",
       "Family                                  1.40223\n",
       "Health (Life Expectancy)                0.94784\n",
       "Freedom                                 0.62877\n",
       "Trust (Government Corruption)           0.14145\n",
       "Generosity                               0.4363\n",
       "Dystopia Residual                       2.70201\n",
       "Name: 1, dtype: object"
      ]
     },
     "execution_count": 21,
     "metadata": {},
     "output_type": "execute_result"
    }
   ],
   "source": [
    "maxfam=hs.loc[1]\n",
    "maxfam"
   ]
  },
  {
   "cell_type": "markdown",
   "id": "8cea4268",
   "metadata": {},
   "source": [
    "The country with maximum family support is Iceland."
   ]
  },
  {
   "cell_type": "code",
   "execution_count": 22,
   "id": "970bcd2b",
   "metadata": {},
   "outputs": [
    {
     "data": {
      "text/plain": [
       "147"
      ]
     },
     "execution_count": 22,
     "metadata": {},
     "output_type": "execute_result"
    }
   ],
   "source": [
    "fam.idxmin()"
   ]
  },
  {
   "cell_type": "markdown",
   "id": "7031c7ba",
   "metadata": {},
   "source": [
    "The country with least Family Support is at index 147"
   ]
  },
  {
   "cell_type": "code",
   "execution_count": 23,
   "id": "82d34b18",
   "metadata": {},
   "outputs": [
    {
     "data": {
      "text/plain": [
       "Country                          Central African Republic\n",
       "Region                                 Sub-Saharan Africa\n",
       "Happiness Rank                                        148\n",
       "Happiness Score                                     3.678\n",
       "Standard Error                                    0.06112\n",
       "Economy (GDP per Capita)                           0.0785\n",
       "Family                                                0.0\n",
       "Health (Life Expectancy)                          0.06699\n",
       "Freedom                                           0.48879\n",
       "Trust (Government Corruption)                     0.08289\n",
       "Generosity                                        0.23835\n",
       "Dystopia Residual                                  2.7223\n",
       "Name: 147, dtype: object"
      ]
     },
     "execution_count": 23,
     "metadata": {},
     "output_type": "execute_result"
    }
   ],
   "source": [
    "minfam=hs.loc[147]\n",
    "minfam"
   ]
  },
  {
   "cell_type": "markdown",
   "id": "ec263ea0",
   "metadata": {},
   "source": [
    "The country with minimum Family support is Cenyral African Republic "
   ]
  },
  {
   "cell_type": "code",
   "execution_count": 24,
   "id": "fd2cef13",
   "metadata": {},
   "outputs": [
    {
     "data": {
      "text/plain": [
       "23"
      ]
     },
     "execution_count": 24,
     "metadata": {},
     "output_type": "execute_result"
    }
   ],
   "source": [
    "hlt=hs[\"Health (Life Expectancy)\"]\n",
    "hlt.idxmax()"
   ]
  },
  {
   "cell_type": "markdown",
   "id": "14acc608",
   "metadata": {},
   "source": [
    "The country with good health is at index 23"
   ]
  },
  {
   "cell_type": "code",
   "execution_count": 25,
   "id": "c23b66d2",
   "metadata": {},
   "outputs": [
    {
     "data": {
      "text/plain": [
       "Country                                  Singapore\n",
       "Region                           Southeastern Asia\n",
       "Happiness Rank                                  24\n",
       "Happiness Score                              6.798\n",
       "Standard Error                              0.0378\n",
       "Economy (GDP per Capita)                   1.52186\n",
       "Family                                        1.02\n",
       "Health (Life Expectancy)                   1.02525\n",
       "Freedom                                    0.54252\n",
       "Trust (Government Corruption)               0.4921\n",
       "Generosity                                 0.31105\n",
       "Dystopia Residual                          1.88501\n",
       "Name: 23, dtype: object"
      ]
     },
     "execution_count": 25,
     "metadata": {},
     "output_type": "execute_result"
    }
   ],
   "source": [
    "maxhlt=hs.loc[23]\n",
    "maxhlt"
   ]
  },
  {
   "cell_type": "markdown",
   "id": "59ac88f0",
   "metadata": {},
   "source": [
    "The country with maximum good health is Singapore. Means it has the maximum life expectancy."
   ]
  },
  {
   "cell_type": "code",
   "execution_count": 26,
   "id": "4b46b74f",
   "metadata": {},
   "outputs": [
    {
     "data": {
      "text/plain": [
       "122"
      ]
     },
     "execution_count": 26,
     "metadata": {},
     "output_type": "execute_result"
    }
   ],
   "source": [
    "hlt.idxmin()"
   ]
  },
  {
   "cell_type": "markdown",
   "id": "8ec50d77",
   "metadata": {},
   "source": [
    "The country with poor health is at index 122"
   ]
  },
  {
   "cell_type": "code",
   "execution_count": 27,
   "id": "515802a4",
   "metadata": {},
   "outputs": [
    {
     "data": {
      "text/plain": [
       "Country                                Sierra Leone\n",
       "Region                           Sub-Saharan Africa\n",
       "Happiness Rank                                  123\n",
       "Happiness Score                               4.507\n",
       "Standard Error                              0.07068\n",
       "Economy (GDP per Capita)                    0.33024\n",
       "Family                                      0.95571\n",
       "Health (Life Expectancy)                        0.0\n",
       "Freedom                                      0.4084\n",
       "Trust (Government Corruption)               0.08786\n",
       "Generosity                                  0.21488\n",
       "Dystopia Residual                           2.51009\n",
       "Name: 122, dtype: object"
      ]
     },
     "execution_count": 27,
     "metadata": {},
     "output_type": "execute_result"
    }
   ],
   "source": [
    "minhlt=hs.loc[122]\n",
    "minhlt"
   ]
  },
  {
   "cell_type": "markdown",
   "id": "5bd54597",
   "metadata": {},
   "source": [
    "The country with least life expectancy / poorest health is Sierra Leone."
   ]
  },
  {
   "cell_type": "code",
   "execution_count": 28,
   "id": "71faa040",
   "metadata": {},
   "outputs": [
    {
     "data": {
      "text/plain": [
       "3"
      ]
     },
     "execution_count": 28,
     "metadata": {},
     "output_type": "execute_result"
    }
   ],
   "source": [
    "free=hs[\"Freedom\"]\n",
    "free.idxmax()"
   ]
  },
  {
   "cell_type": "markdown",
   "id": "749797d1",
   "metadata": {},
   "source": [
    "The country with maximum freedom is at index 3"
   ]
  },
  {
   "cell_type": "code",
   "execution_count": 29,
   "id": "34fcfb67",
   "metadata": {},
   "outputs": [
    {
     "data": {
      "text/plain": [
       "Country                                  Norway\n",
       "Region                           Western Europe\n",
       "Happiness Rank                                4\n",
       "Happiness Score                           7.522\n",
       "Standard Error                           0.0388\n",
       "Economy (GDP per Capita)                  1.459\n",
       "Family                                  1.33095\n",
       "Health (Life Expectancy)                0.88521\n",
       "Freedom                                 0.66973\n",
       "Trust (Government Corruption)           0.36503\n",
       "Generosity                              0.34699\n",
       "Dystopia Residual                       2.46531\n",
       "Name: 3, dtype: object"
      ]
     },
     "execution_count": 29,
     "metadata": {},
     "output_type": "execute_result"
    }
   ],
   "source": [
    "maxfree=hs.loc[3]\n",
    "maxfree"
   ]
  },
  {
   "cell_type": "markdown",
   "id": "d533e0f4",
   "metadata": {},
   "source": [
    "The country with maximum freedom is Norway"
   ]
  },
  {
   "cell_type": "code",
   "execution_count": 30,
   "id": "5d9f8bae",
   "metadata": {},
   "outputs": [
    {
     "data": {
      "text/plain": [
       "111"
      ]
     },
     "execution_count": 30,
     "metadata": {},
     "output_type": "execute_result"
    }
   ],
   "source": [
    "free.idxmin()"
   ]
  },
  {
   "cell_type": "markdown",
   "id": "dec56289",
   "metadata": {},
   "source": [
    "The country with least freedom is at index 111"
   ]
  },
  {
   "cell_type": "code",
   "execution_count": 31,
   "id": "9e3762db",
   "metadata": {},
   "outputs": [
    {
     "data": {
      "text/plain": [
       "Country                                                     Iraq\n",
       "Region                           Middle East and Northern Africa\n",
       "Happiness Rank                                               112\n",
       "Happiness Score                                            4.677\n",
       "Standard Error                                           0.05232\n",
       "Economy (GDP per Capita)                                 0.98549\n",
       "Family                                                   0.81889\n",
       "Health (Life Expectancy)                                 0.60237\n",
       "Freedom                                                      0.0\n",
       "Trust (Government Corruption)                            0.13788\n",
       "Generosity                                               0.17922\n",
       "Dystopia Residual                                        1.95335\n",
       "Name: 111, dtype: object"
      ]
     },
     "execution_count": 31,
     "metadata": {},
     "output_type": "execute_result"
    }
   ],
   "source": [
    "minfree=hs.loc[111]\n",
    "minfree"
   ]
  },
  {
   "cell_type": "markdown",
   "id": "f78731c4",
   "metadata": {},
   "source": [
    "The country with minimum freedom is Iraq"
   ]
  },
  {
   "cell_type": "code",
   "execution_count": 32,
   "id": "d712e1cc",
   "metadata": {},
   "outputs": [
    {
     "data": {
      "text/plain": [
       "153"
      ]
     },
     "execution_count": 32,
     "metadata": {},
     "output_type": "execute_result"
    }
   ],
   "source": [
    "trust = hs['Trust (Government Corruption)']\n",
    "trust.idxmax()"
   ]
  },
  {
   "cell_type": "markdown",
   "id": "f01b04ec",
   "metadata": {},
   "source": [
    "The country with maximum Trust on Government is at index 153"
   ]
  },
  {
   "cell_type": "code",
   "execution_count": 33,
   "id": "05cb06db",
   "metadata": {},
   "outputs": [
    {
     "data": {
      "text/plain": [
       "Country                                      Rwanda\n",
       "Region                           Sub-Saharan Africa\n",
       "Happiness Rank                                  154\n",
       "Happiness Score                               3.465\n",
       "Standard Error                              0.03464\n",
       "Economy (GDP per Capita)                    0.22208\n",
       "Family                                       0.7737\n",
       "Health (Life Expectancy)                    0.42864\n",
       "Freedom                                     0.59201\n",
       "Trust (Government Corruption)               0.55191\n",
       "Generosity                                  0.22628\n",
       "Dystopia Residual                           0.67042\n",
       "Name: 153, dtype: object"
      ]
     },
     "execution_count": 33,
     "metadata": {},
     "output_type": "execute_result"
    }
   ],
   "source": [
    "maxtrust=hs.loc[153]\n",
    "maxtrust"
   ]
  },
  {
   "cell_type": "markdown",
   "id": "13212778",
   "metadata": {},
   "source": [
    "The country with maximum trust on government is Rwanda"
   ]
  },
  {
   "cell_type": "code",
   "execution_count": 34,
   "id": "661578ae",
   "metadata": {},
   "outputs": [
    {
     "data": {
      "text/plain": [
       "73"
      ]
     },
     "execution_count": 34,
     "metadata": {},
     "output_type": "execute_result"
    }
   ],
   "source": [
    "trust.idxmin()"
   ]
  },
  {
   "cell_type": "markdown",
   "id": "0f58bfa3",
   "metadata": {},
   "source": [
    "The country with minimum trust on government is at index 73"
   ]
  },
  {
   "cell_type": "code",
   "execution_count": 35,
   "id": "1b5c2d33",
   "metadata": {},
   "outputs": [
    {
     "data": {
      "text/plain": [
       "Country                                  Indonesia\n",
       "Region                           Southeastern Asia\n",
       "Happiness Rank                                  74\n",
       "Happiness Score                              5.399\n",
       "Standard Error                             0.02596\n",
       "Economy (GDP per Capita)                   0.82827\n",
       "Family                                     1.08708\n",
       "Health (Life Expectancy)                   0.63793\n",
       "Freedom                                    0.46611\n",
       "Trust (Government Corruption)                  0.0\n",
       "Generosity                                 0.51535\n",
       "Dystopia Residual                          1.86399\n",
       "Name: 73, dtype: object"
      ]
     },
     "execution_count": 35,
     "metadata": {},
     "output_type": "execute_result"
    }
   ],
   "source": [
    "mintrust=hs.loc[73]\n",
    "mintrust"
   ]
  },
  {
   "cell_type": "markdown",
   "id": "be2a6afb",
   "metadata": {},
   "source": [
    "The country with minimum trust on government is Indonesia"
   ]
  },
  {
   "cell_type": "code",
   "execution_count": 36,
   "id": "9e3cc744",
   "metadata": {},
   "outputs": [
    {
     "data": {
      "text/plain": [
       "128"
      ]
     },
     "execution_count": 36,
     "metadata": {},
     "output_type": "execute_result"
    }
   ],
   "source": [
    "gen = hs['Generosity']\n",
    "gen.idxmax()"
   ]
  },
  {
   "cell_type": "markdown",
   "id": "1a91ef2b",
   "metadata": {},
   "source": [
    "The country with Highest Generosity is at index 128 "
   ]
  },
  {
   "cell_type": "code",
   "execution_count": 37,
   "id": "51c589b1",
   "metadata": {},
   "outputs": [
    {
     "data": {
      "text/plain": [
       "Country                                    Myanmar\n",
       "Region                           Southeastern Asia\n",
       "Happiness Rank                                 129\n",
       "Happiness Score                              4.307\n",
       "Standard Error                             0.04351\n",
       "Economy (GDP per Capita)                   0.27108\n",
       "Family                                     0.70905\n",
       "Health (Life Expectancy)                   0.48246\n",
       "Freedom                                    0.44017\n",
       "Trust (Government Corruption)              0.19034\n",
       "Generosity                                 0.79588\n",
       "Dystopia Residual                          1.41805\n",
       "Name: 128, dtype: object"
      ]
     },
     "execution_count": 37,
     "metadata": {},
     "output_type": "execute_result"
    }
   ],
   "source": [
    "maxgen=hs.loc[128]\n",
    "maxgen"
   ]
  },
  {
   "cell_type": "markdown",
   "id": "9978d4f8",
   "metadata": {},
   "source": [
    "The country with highest generosity is Myanmar"
   ]
  },
  {
   "cell_type": "code",
   "execution_count": 38,
   "id": "5a1f5b2b",
   "metadata": {},
   "outputs": [
    {
     "data": {
      "text/plain": [
       "101"
      ]
     },
     "execution_count": 38,
     "metadata": {},
     "output_type": "execute_result"
    }
   ],
   "source": [
    "gen.idxmin()"
   ]
  },
  {
   "cell_type": "markdown",
   "id": "a42418ea",
   "metadata": {},
   "source": [
    "The country with lowest Generosity is at index 101"
   ]
  },
  {
   "cell_type": "code",
   "execution_count": 39,
   "id": "8c19cf89",
   "metadata": {},
   "outputs": [
    {
     "data": {
      "text/plain": [
       "Country                                  Greece\n",
       "Region                           Western Europe\n",
       "Happiness Rank                              102\n",
       "Happiness Score                           4.857\n",
       "Standard Error                          0.05062\n",
       "Economy (GDP per Capita)                1.15406\n",
       "Family                                  0.92933\n",
       "Health (Life Expectancy)                0.88213\n",
       "Freedom                                 0.07699\n",
       "Trust (Government Corruption)           0.01397\n",
       "Generosity                                  0.0\n",
       "Dystopia Residual                       1.80101\n",
       "Name: 101, dtype: object"
      ]
     },
     "execution_count": 39,
     "metadata": {},
     "output_type": "execute_result"
    }
   ],
   "source": [
    "mingen=hs.loc[101]\n",
    "mingen"
   ]
  },
  {
   "cell_type": "markdown",
   "id": "0ed3ad86",
   "metadata": {},
   "source": [
    "The country with lowest Generosit is Greece"
   ]
  },
  {
   "cell_type": "code",
   "execution_count": 40,
   "id": "b20b2014",
   "metadata": {},
   "outputs": [
    {
     "data": {
      "text/plain": [
       "13"
      ]
     },
     "execution_count": 40,
     "metadata": {},
     "output_type": "execute_result"
    }
   ],
   "source": [
    "dys=hs['Dystopia Residual']\n",
    "dys.idxmax()"
   ]
  },
  {
   "cell_type": "markdown",
   "id": "362482bb",
   "metadata": {},
   "source": [
    "The country with highest Dystopia residual is at index 13"
   ]
  },
  {
   "cell_type": "code",
   "execution_count": 41,
   "id": "bd1c35ac",
   "metadata": {},
   "outputs": [
    {
     "data": {
      "text/plain": [
       "Country                                               Mexico\n",
       "Region                           Latin America and Caribbean\n",
       "Happiness Rank                                            14\n",
       "Happiness Score                                        7.187\n",
       "Standard Error                                       0.04176\n",
       "Economy (GDP per Capita)                             1.02054\n",
       "Family                                               0.91451\n",
       "Health (Life Expectancy)                             0.81444\n",
       "Freedom                                              0.48181\n",
       "Trust (Government Corruption)                        0.21312\n",
       "Generosity                                           0.14074\n",
       "Dystopia Residual                                    3.60214\n",
       "Name: 13, dtype: object"
      ]
     },
     "execution_count": 41,
     "metadata": {},
     "output_type": "execute_result"
    }
   ],
   "source": [
    "maxdys=hs.loc[13]\n",
    "maxdys"
   ]
  },
  {
   "cell_type": "markdown",
   "id": "c21f9407",
   "metadata": {},
   "source": [
    "The country with highest Dystopia Residual is Mexico"
   ]
  },
  {
   "cell_type": "code",
   "execution_count": 42,
   "id": "cd87d822",
   "metadata": {},
   "outputs": [
    {
     "data": {
      "text/plain": [
       "155"
      ]
     },
     "execution_count": 42,
     "metadata": {},
     "output_type": "execute_result"
    }
   ],
   "source": [
    "dys.idxmin()"
   ]
  },
  {
   "cell_type": "markdown",
   "id": "3bf13aff",
   "metadata": {},
   "source": [
    "The country with minimum dystopia residual is at index 155"
   ]
  },
  {
   "cell_type": "code",
   "execution_count": 43,
   "id": "7242259c",
   "metadata": {},
   "outputs": [
    {
     "data": {
      "text/plain": [
       "Country                                                    Syria\n",
       "Region                           Middle East and Northern Africa\n",
       "Happiness Rank                                               156\n",
       "Happiness Score                                            3.006\n",
       "Standard Error                                           0.05015\n",
       "Economy (GDP per Capita)                                  0.6632\n",
       "Family                                                   0.47489\n",
       "Health (Life Expectancy)                                 0.72193\n",
       "Freedom                                                  0.15684\n",
       "Trust (Government Corruption)                            0.18906\n",
       "Generosity                                               0.47179\n",
       "Dystopia Residual                                        0.32858\n",
       "Name: 155, dtype: object"
      ]
     },
     "execution_count": 43,
     "metadata": {},
     "output_type": "execute_result"
    }
   ],
   "source": [
    "mindys=hs.loc[155]\n",
    "mindys"
   ]
  },
  {
   "cell_type": "markdown",
   "id": "284d150e",
   "metadata": {},
   "source": [
    "The country with lowest dystopia residual is Syria."
   ]
  },
  {
   "cell_type": "markdown",
   "id": "a6460626",
   "metadata": {},
   "source": [
    "# Visualization"
   ]
  },
  {
   "cell_type": "code",
   "execution_count": 44,
   "id": "0fd3395b",
   "metadata": {},
   "outputs": [
    {
     "data": {
      "text/plain": [
       "<AxesSubplot:>"
      ]
     },
     "execution_count": 44,
     "metadata": {},
     "output_type": "execute_result"
    },
    {
     "data": {
      "image/png": "[encoded data removed]",
      "text/plain": [
       "<Figure size 432x288 with 1 Axes>"
      ]
     },
     "metadata": {
      "needs_background": "light"
     },
     "output_type": "display_data"
    }
   ],
   "source": [
    "hs['Standard Error'].plot.box()"
   ]
  },
  {
   "cell_type": "markdown",
   "id": "24322918",
   "metadata": {},
   "source": [
    "There are many outliers present in STandard error"
   ]
  },
  {
   "cell_type": "code",
   "execution_count": 45,
   "id": "b9023ef5",
   "metadata": {},
   "outputs": [
    {
     "data": {
      "text/plain": [
       "<AxesSubplot:>"
      ]
     },
     "execution_count": 45,
     "metadata": {},
     "output_type": "execute_result"
    },
    {
     "data": {
      "image/png": "[encoded data removed]",
      "text/plain": [
       "<Figure size 432x288 with 1 Axes>"
      ]
     },
     "metadata": {
      "needs_background": "light"
     },
     "output_type": "display_data"
    }
   ],
   "source": [
    "hs['Economy (GDP per Capita)'].plot.box()"
   ]
  },
  {
   "cell_type": "markdown",
   "id": "c00c422d",
   "metadata": {},
   "source": [
    "There are no outliers in Economy"
   ]
  },
  {
   "cell_type": "code",
   "execution_count": 46,
   "id": "6d9c4aa2",
   "metadata": {},
   "outputs": [
    {
     "data": {
      "text/plain": [
       "<AxesSubplot:>"
      ]
     },
     "execution_count": 46,
     "metadata": {},
     "output_type": "execute_result"
    },
    {
     "data": {
      "image/png": "[encoded data removed]",
      "text/plain": [
       "<Figure size 432x288 with 1 Axes>"
      ]
     },
     "metadata": {
      "needs_background": "light"
     },
     "output_type": "display_data"
    }
   ],
   "source": [
    "hs['Family'].plot.box()"
   ]
  },
  {
   "cell_type": "markdown",
   "id": "d271adf2",
   "metadata": {},
   "source": [
    "There are few outliers in Family"
   ]
  },
  {
   "cell_type": "code",
   "execution_count": 47,
   "id": "420ab342",
   "metadata": {},
   "outputs": [
    {
     "data": {
      "text/plain": [
       "<AxesSubplot:>"
      ]
     },
     "execution_count": 47,
     "metadata": {},
     "output_type": "execute_result"
    },
    {
     "data": {
      "image/png": "[encoded data removed]",
      "text/plain": [
       "<Figure size 432x288 with 1 Axes>"
      ]
     },
     "metadata": {
      "needs_background": "light"
     },
     "output_type": "display_data"
    }
   ],
   "source": [
    "hs['Health (Life Expectancy)'].plot.box()"
   ]
  },
  {
   "cell_type": "markdown",
   "id": "cd46745e",
   "metadata": {},
   "source": [
    "There are no outliers in Health"
   ]
  },
  {
   "cell_type": "code",
   "execution_count": 48,
   "id": "3da611dc",
   "metadata": {},
   "outputs": [
    {
     "data": {
      "text/plain": [
       "<AxesSubplot:>"
      ]
     },
     "execution_count": 48,
     "metadata": {},
     "output_type": "execute_result"
    },
    {
     "data": {
      "image/png": "[encoded data removed]",
      "text/plain": [
       "<Figure size 432x288 with 1 Axes>"
      ]
     },
     "metadata": {
      "needs_background": "light"
     },
     "output_type": "display_data"
    }
   ],
   "source": [
    "hs['Freedom'].plot.box()"
   ]
  },
  {
   "cell_type": "markdown",
   "id": "5b783af3",
   "metadata": {},
   "source": [
    "There are no outliers in Freedom"
   ]
  },
  {
   "cell_type": "code",
   "execution_count": 49,
   "id": "f756e4f4",
   "metadata": {},
   "outputs": [
    {
     "data": {
      "text/plain": [
       "<AxesSubplot:>"
      ]
     },
     "execution_count": 49,
     "metadata": {},
     "output_type": "execute_result"
    },
    {
     "data": {
      "image/png": "[encoded data removed]",
      "text/plain": [
       "<Figure size 432x288 with 1 Axes>"
      ]
     },
     "metadata": {
      "needs_background": "light"
     },
     "output_type": "display_data"
    }
   ],
   "source": [
    "hs['Trust (Government Corruption)'].plot.box()"
   ]
  },
  {
   "cell_type": "markdown",
   "id": "40751643",
   "metadata": {},
   "source": [
    "There are so many outliers in Trust"
   ]
  },
  {
   "cell_type": "code",
   "execution_count": 50,
   "id": "05c2c383",
   "metadata": {},
   "outputs": [
    {
     "data": {
      "text/plain": [
       "<AxesSubplot:>"
      ]
     },
     "execution_count": 50,
     "metadata": {},
     "output_type": "execute_result"
    },
    {
     "data": {
      "image/png": "[encoded data removed]",
      "text/plain": [
       "<Figure size 432x288 with 1 Axes>"
      ]
     },
     "metadata": {
      "needs_background": "light"
     },
     "output_type": "display_data"
    }
   ],
   "source": [
    "hs['Generosity'].plot.box()"
   ]
  },
  {
   "cell_type": "markdown",
   "id": "a4fd0382",
   "metadata": {},
   "source": [
    "There are few outliers in Generosity"
   ]
  },
  {
   "cell_type": "code",
   "execution_count": 51,
   "id": "5393ef64",
   "metadata": {},
   "outputs": [
    {
     "data": {
      "text/plain": [
       "<AxesSubplot:>"
      ]
     },
     "execution_count": 51,
     "metadata": {},
     "output_type": "execute_result"
    },
    {
     "data": {
      "image/png": "[encoded data removed]",
      "text/plain": [
       "<Figure size 432x288 with 1 Axes>"
      ]
     },
     "metadata": {
      "needs_background": "light"
     },
     "output_type": "display_data"
    }
   ],
   "source": [
    "hs['Dystopia Residual'].plot.box()"
   ]
  },
  {
   "cell_type": "markdown",
   "id": "0eb261ef",
   "metadata": {},
   "source": [
    "There are few outliers in Dystopia Residual"
   ]
  },
  {
   "cell_type": "code",
   "execution_count": 52,
   "id": "153914a2",
   "metadata": {
    "scrolled": true
   },
   "outputs": [
    {
     "data": {
      "text/plain": [
       "<AxesSubplot:>"
      ]
     },
     "execution_count": 52,
     "metadata": {},
     "output_type": "execute_result"
    },
    {
     "data": {
      "image/png": "[encoded data removed]",
      "text/plain": [
       "<Figure size 432x288 with 2 Axes>"
      ]
     },
     "metadata": {
      "needs_background": "light"
     },
     "output_type": "display_data"
    }
   ],
   "source": [
    "sn.heatmap(hs.isnull())"
   ]
  },
  {
   "cell_type": "markdown",
   "id": "6e069c41",
   "metadata": {},
   "source": [
    "There's no null data"
   ]
  },
  {
   "cell_type": "code",
   "execution_count": 53,
   "id": "7c5776ba",
   "metadata": {},
   "outputs": [],
   "source": [
    "from sklearn.preprocessing import LabelEncoder\n",
    "le= LabelEncoder()\n",
    "hs[\"Country\"]=le.fit_transform(hs[\"Country\"])\n",
    "hs[\"Region\"]=le.fit_transform(hs[\"Region\"])"
   ]
  },
  {
   "cell_type": "markdown",
   "id": "cb4113fd",
   "metadata": {},
   "source": [
    "We have converted country and region's categorical data to numerical data"
   ]
  },
  {
   "cell_type": "code",
   "execution_count": 54,
   "id": "754ea0b5",
   "metadata": {},
   "outputs": [
    {
     "data": {
      "text/plain": [
       "<AxesSubplot:>"
      ]
     },
     "execution_count": 54,
     "metadata": {},
     "output_type": "execute_result"
    },
    {
     "data": {
      "image/png": "[encoded data removed]",
      "text/plain": [
       "<Figure size 1008x864 with 2 Axes>"
      ]
     },
     "metadata": {
      "needs_background": "light"
     },
     "output_type": "display_data"
    }
   ],
   "source": [
    "plt.figure(figsize=(14,12))\n",
    "sn.heatmap(hs.corr(), linewidths=.1, annot=True, annot_kws={\"size\":7})"
   ]
  },
  {
   "cell_type": "markdown",
   "id": "898a22b1",
   "metadata": {},
   "source": [
    "The Standard error is the Least Correlating data with the Happiness Score with a correlation of -0.18 .\n",
    "Economy - Health and Family-Generosity are showing multicolinearity."
   ]
  },
  {
   "cell_type": "code",
   "execution_count": 55,
   "id": "c60647f3",
   "metadata": {},
   "outputs": [
    {
     "data": {
      "text/html": [
       "<div>\n",
       "<style scoped>\n",
       "    .dataframe tbody tr th:only-of-type {\n",
       "        vertical-align: middle;\n",
       "    }\n",
       "\n",
       "    .dataframe tbody tr th {\n",
       "        vertical-align: top;\n",
       "    }\n",
       "\n",
       "    .dataframe thead th {\n",
       "        text-align: right;\n",
       "    }\n",
       "</style>\n",
       "<table border=\"1\" class=\"dataframe\">\n",
       "  <thead>\n",
       "    <tr style=\"text-align: right;\">\n",
       "      <th></th>\n",
       "      <th>Country</th>\n",
       "      <th>Region</th>\n",
       "      <th>Happiness Rank</th>\n",
       "      <th>Happiness Score</th>\n",
       "      <th>Standard Error</th>\n",
       "      <th>Economy (GDP per Capita)</th>\n",
       "      <th>Family</th>\n",
       "      <th>Health (Life Expectancy)</th>\n",
       "      <th>Freedom</th>\n",
       "      <th>Trust (Government Corruption)</th>\n",
       "      <th>Generosity</th>\n",
       "      <th>Dystopia Residual</th>\n",
       "    </tr>\n",
       "  </thead>\n",
       "  <tbody>\n",
       "    <tr>\n",
       "      <th>Country</th>\n",
       "      <td>1.000000</td>\n",
       "      <td>0.005092</td>\n",
       "      <td>-0.098538</td>\n",
       "      <td>0.083380</td>\n",
       "      <td>0.033879</td>\n",
       "      <td>0.037808</td>\n",
       "      <td>0.159416</td>\n",
       "      <td>0.037829</td>\n",
       "      <td>0.085684</td>\n",
       "      <td>0.088155</td>\n",
       "      <td>0.118085</td>\n",
       "      <td>-0.019778</td>\n",
       "    </tr>\n",
       "    <tr>\n",
       "      <th>Region</th>\n",
       "      <td>0.005092</td>\n",
       "      <td>1.000000</td>\n",
       "      <td>0.213773</td>\n",
       "      <td>-0.176791</td>\n",
       "      <td>-0.022600</td>\n",
       "      <td>-0.260139</td>\n",
       "      <td>-0.168533</td>\n",
       "      <td>-0.357508</td>\n",
       "      <td>0.092567</td>\n",
       "      <td>0.165040</td>\n",
       "      <td>0.273557</td>\n",
       "      <td>-0.057276</td>\n",
       "    </tr>\n",
       "    <tr>\n",
       "      <th>Happiness Rank</th>\n",
       "      <td>-0.098538</td>\n",
       "      <td>0.213773</td>\n",
       "      <td>1.000000</td>\n",
       "      <td>-0.992105</td>\n",
       "      <td>0.158516</td>\n",
       "      <td>-0.785267</td>\n",
       "      <td>-0.733644</td>\n",
       "      <td>-0.735613</td>\n",
       "      <td>-0.556886</td>\n",
       "      <td>-0.372315</td>\n",
       "      <td>-0.160142</td>\n",
       "      <td>-0.521999</td>\n",
       "    </tr>\n",
       "    <tr>\n",
       "      <th>Happiness Score</th>\n",
       "      <td>0.083380</td>\n",
       "      <td>-0.176791</td>\n",
       "      <td>-0.992105</td>\n",
       "      <td>1.000000</td>\n",
       "      <td>-0.177254</td>\n",
       "      <td>0.780966</td>\n",
       "      <td>0.740605</td>\n",
       "      <td>0.724200</td>\n",
       "      <td>0.568211</td>\n",
       "      <td>0.395199</td>\n",
       "      <td>0.180319</td>\n",
       "      <td>0.530474</td>\n",
       "    </tr>\n",
       "    <tr>\n",
       "      <th>Standard Error</th>\n",
       "      <td>0.033879</td>\n",
       "      <td>-0.022600</td>\n",
       "      <td>0.158516</td>\n",
       "      <td>-0.177254</td>\n",
       "      <td>1.000000</td>\n",
       "      <td>-0.217651</td>\n",
       "      <td>-0.120728</td>\n",
       "      <td>-0.310287</td>\n",
       "      <td>-0.129773</td>\n",
       "      <td>-0.178325</td>\n",
       "      <td>-0.088439</td>\n",
       "      <td>0.083981</td>\n",
       "    </tr>\n",
       "    <tr>\n",
       "      <th>Economy (GDP per Capita)</th>\n",
       "      <td>0.037808</td>\n",
       "      <td>-0.260139</td>\n",
       "      <td>-0.785267</td>\n",
       "      <td>0.780966</td>\n",
       "      <td>-0.217651</td>\n",
       "      <td>1.000000</td>\n",
       "      <td>0.645299</td>\n",
       "      <td>0.816478</td>\n",
       "      <td>0.370300</td>\n",
       "      <td>0.307885</td>\n",
       "      <td>-0.010465</td>\n",
       "      <td>0.040059</td>\n",
       "    </tr>\n",
       "    <tr>\n",
       "      <th>Family</th>\n",
       "      <td>0.159416</td>\n",
       "      <td>-0.168533</td>\n",
       "      <td>-0.733644</td>\n",
       "      <td>0.740605</td>\n",
       "      <td>-0.120728</td>\n",
       "      <td>0.645299</td>\n",
       "      <td>1.000000</td>\n",
       "      <td>0.531104</td>\n",
       "      <td>0.441518</td>\n",
       "      <td>0.205605</td>\n",
       "      <td>0.087513</td>\n",
       "      <td>0.148117</td>\n",
       "    </tr>\n",
       "    <tr>\n",
       "      <th>Health (Life Expectancy)</th>\n",
       "      <td>0.037829</td>\n",
       "      <td>-0.357508</td>\n",
       "      <td>-0.735613</td>\n",
       "      <td>0.724200</td>\n",
       "      <td>-0.310287</td>\n",
       "      <td>0.816478</td>\n",
       "      <td>0.531104</td>\n",
       "      <td>1.000000</td>\n",
       "      <td>0.360477</td>\n",
       "      <td>0.248335</td>\n",
       "      <td>0.108335</td>\n",
       "      <td>0.018979</td>\n",
       "    </tr>\n",
       "    <tr>\n",
       "      <th>Freedom</th>\n",
       "      <td>0.085684</td>\n",
       "      <td>0.092567</td>\n",
       "      <td>-0.556886</td>\n",
       "      <td>0.568211</td>\n",
       "      <td>-0.129773</td>\n",
       "      <td>0.370300</td>\n",
       "      <td>0.441518</td>\n",
       "      <td>0.360477</td>\n",
       "      <td>1.000000</td>\n",
       "      <td>0.493524</td>\n",
       "      <td>0.373916</td>\n",
       "      <td>0.062783</td>\n",
       "    </tr>\n",
       "    <tr>\n",
       "      <th>Trust (Government Corruption)</th>\n",
       "      <td>0.088155</td>\n",
       "      <td>0.165040</td>\n",
       "      <td>-0.372315</td>\n",
       "      <td>0.395199</td>\n",
       "      <td>-0.178325</td>\n",
       "      <td>0.307885</td>\n",
       "      <td>0.205605</td>\n",
       "      <td>0.248335</td>\n",
       "      <td>0.493524</td>\n",
       "      <td>1.000000</td>\n",
       "      <td>0.276123</td>\n",
       "      <td>-0.033105</td>\n",
       "    </tr>\n",
       "    <tr>\n",
       "      <th>Generosity</th>\n",
       "      <td>0.118085</td>\n",
       "      <td>0.273557</td>\n",
       "      <td>-0.160142</td>\n",
       "      <td>0.180319</td>\n",
       "      <td>-0.088439</td>\n",
       "      <td>-0.010465</td>\n",
       "      <td>0.087513</td>\n",
       "      <td>0.108335</td>\n",
       "      <td>0.373916</td>\n",
       "      <td>0.276123</td>\n",
       "      <td>1.000000</td>\n",
       "      <td>-0.101301</td>\n",
       "    </tr>\n",
       "    <tr>\n",
       "      <th>Dystopia Residual</th>\n",
       "      <td>-0.019778</td>\n",
       "      <td>-0.057276</td>\n",
       "      <td>-0.521999</td>\n",
       "      <td>0.530474</td>\n",
       "      <td>0.083981</td>\n",
       "      <td>0.040059</td>\n",
       "      <td>0.148117</td>\n",
       "      <td>0.018979</td>\n",
       "      <td>0.062783</td>\n",
       "      <td>-0.033105</td>\n",
       "      <td>-0.101301</td>\n",
       "      <td>1.000000</td>\n",
       "    </tr>\n",
       "  </tbody>\n",
       "</table>\n",
       "</div>"
      ],
      "text/plain": [
       "                                Country    Region  Happiness Rank  \\\n",
       "Country                        1.000000  0.005092       -0.098538   \n",
       "Region                         0.005092  1.000000        0.213773   \n",
       "Happiness Rank                -0.098538  0.213773        1.000000   \n",
       "Happiness Score                0.083380 -0.176791       -0.992105   \n",
       "Standard Error                 0.033879 -0.022600        0.158516   \n",
       "Economy (GDP per Capita)       0.037808 -0.260139       -0.785267   \n",
       "Family                         0.159416 -0.168533       -0.733644   \n",
       "Health (Life Expectancy)       0.037829 -0.357508       -0.735613   \n",
       "Freedom                        0.085684  0.092567       -0.556886   \n",
       "Trust (Government Corruption)  0.088155  0.165040       -0.372315   \n",
       "Generosity                     0.118085  0.273557       -0.160142   \n",
       "Dystopia Residual             -0.019778 -0.057276       -0.521999   \n",
       "\n",
       "                               Happiness Score  Standard Error  \\\n",
       "Country                               0.083380        0.033879   \n",
       "Region                               -0.176791       -0.022600   \n",
       "Happiness Rank                       -0.992105        0.158516   \n",
       "Happiness Score                       1.000000       -0.177254   \n",
       "Standard Error                       -0.177254        1.000000   \n",
       "Economy (GDP per Capita)              0.780966       -0.217651   \n",
       "Family                                0.740605       -0.120728   \n",
       "Health (Life Expectancy)              0.724200       -0.310287   \n",
       "Freedom                               0.568211       -0.129773   \n",
       "Trust (Government Corruption)         0.395199       -0.178325   \n",
       "Generosity                            0.180319       -0.088439   \n",
       "Dystopia Residual                     0.530474        0.083981   \n",
       "\n",
       "                               Economy (GDP per Capita)    Family  \\\n",
       "Country                                        0.037808  0.159416   \n",
       "Region                                        -0.260139 -0.168533   \n",
       "Happiness Rank                                -0.785267 -0.733644   \n",
       "Happiness Score                                0.780966  0.740605   \n",
       "Standard Error                                -0.217651 -0.120728   \n",
       "Economy (GDP per Capita)                       1.000000  0.645299   \n",
       "Family                                         0.645299  1.000000   \n",
       "Health (Life Expectancy)                       0.816478  0.531104   \n",
       "Freedom                                        0.370300  0.441518   \n",
       "Trust (Government Corruption)                  0.307885  0.205605   \n",
       "Generosity                                    -0.010465  0.087513   \n",
       "Dystopia Residual                              0.040059  0.148117   \n",
       "\n",
       "                               Health (Life Expectancy)   Freedom  \\\n",
       "Country                                        0.037829  0.085684   \n",
       "Region                                        -0.357508  0.092567   \n",
       "Happiness Rank                                -0.735613 -0.556886   \n",
       "Happiness Score                                0.724200  0.568211   \n",
       "Standard Error                                -0.310287 -0.129773   \n",
       "Economy (GDP per Capita)                       0.816478  0.370300   \n",
       "Family                                         0.531104  0.441518   \n",
       "Health (Life Expectancy)                       1.000000  0.360477   \n",
       "Freedom                                        0.360477  1.000000   \n",
       "Trust (Government Corruption)                  0.248335  0.493524   \n",
       "Generosity                                     0.108335  0.373916   \n",
       "Dystopia Residual                              0.018979  0.062783   \n",
       "\n",
       "                               Trust (Government Corruption)  Generosity  \\\n",
       "Country                                             0.088155    0.118085   \n",
       "Region                                              0.165040    0.273557   \n",
       "Happiness Rank                                     -0.372315   -0.160142   \n",
       "Happiness Score                                     0.395199    0.180319   \n",
       "Standard Error                                     -0.178325   -0.088439   \n",
       "Economy (GDP per Capita)                            0.307885   -0.010465   \n",
       "Family                                              0.205605    0.087513   \n",
       "Health (Life Expectancy)                            0.248335    0.108335   \n",
       "Freedom                                             0.493524    0.373916   \n",
       "Trust (Government Corruption)                       1.000000    0.276123   \n",
       "Generosity                                          0.276123    1.000000   \n",
       "Dystopia Residual                                  -0.033105   -0.101301   \n",
       "\n",
       "                               Dystopia Residual  \n",
       "Country                                -0.019778  \n",
       "Region                                 -0.057276  \n",
       "Happiness Rank                         -0.521999  \n",
       "Happiness Score                         0.530474  \n",
       "Standard Error                          0.083981  \n",
       "Economy (GDP per Capita)                0.040059  \n",
       "Family                                  0.148117  \n",
       "Health (Life Expectancy)                0.018979  \n",
       "Freedom                                 0.062783  \n",
       "Trust (Government Corruption)          -0.033105  \n",
       "Generosity                             -0.101301  \n",
       "Dystopia Residual                       1.000000  "
      ]
     },
     "execution_count": 55,
     "metadata": {},
     "output_type": "execute_result"
    }
   ],
   "source": [
    "cor = hs.corr()\n",
    "cor"
   ]
  },
  {
   "cell_type": "markdown",
   "id": "e7af7343",
   "metadata": {},
   "source": [
    "it gives us the correlation of every variable with eachother"
   ]
  },
  {
   "cell_type": "code",
   "execution_count": 56,
   "id": "833a6468",
   "metadata": {},
   "outputs": [
    {
     "data": {
      "text/html": [
       "<div>\n",
       "<style scoped>\n",
       "    .dataframe tbody tr th:only-of-type {\n",
       "        vertical-align: middle;\n",
       "    }\n",
       "\n",
       "    .dataframe tbody tr th {\n",
       "        vertical-align: top;\n",
       "    }\n",
       "\n",
       "    .dataframe thead th {\n",
       "        text-align: right;\n",
       "    }\n",
       "</style>\n",
       "<table border=\"1\" class=\"dataframe\">\n",
       "  <thead>\n",
       "    <tr style=\"text-align: right;\">\n",
       "      <th></th>\n",
       "      <th>Country</th>\n",
       "      <th>Region</th>\n",
       "      <th>Happiness Rank</th>\n",
       "      <th>Happiness Score</th>\n",
       "      <th>Standard Error</th>\n",
       "      <th>Economy (GDP per Capita)</th>\n",
       "      <th>Family</th>\n",
       "      <th>Health (Life Expectancy)</th>\n",
       "      <th>Freedom</th>\n",
       "      <th>Trust (Government Corruption)</th>\n",
       "      <th>Generosity</th>\n",
       "      <th>Dystopia Residual</th>\n",
       "    </tr>\n",
       "  </thead>\n",
       "  <tbody>\n",
       "    <tr>\n",
       "      <th>Country</th>\n",
       "      <td>1.0</td>\n",
       "      <td>NaN</td>\n",
       "      <td>NaN</td>\n",
       "      <td>NaN</td>\n",
       "      <td>NaN</td>\n",
       "      <td>NaN</td>\n",
       "      <td>NaN</td>\n",
       "      <td>NaN</td>\n",
       "      <td>NaN</td>\n",
       "      <td>NaN</td>\n",
       "      <td>NaN</td>\n",
       "      <td>NaN</td>\n",
       "    </tr>\n",
       "    <tr>\n",
       "      <th>Region</th>\n",
       "      <td>NaN</td>\n",
       "      <td>1.0</td>\n",
       "      <td>NaN</td>\n",
       "      <td>NaN</td>\n",
       "      <td>NaN</td>\n",
       "      <td>NaN</td>\n",
       "      <td>NaN</td>\n",
       "      <td>NaN</td>\n",
       "      <td>NaN</td>\n",
       "      <td>NaN</td>\n",
       "      <td>NaN</td>\n",
       "      <td>NaN</td>\n",
       "    </tr>\n",
       "    <tr>\n",
       "      <th>Happiness Rank</th>\n",
       "      <td>NaN</td>\n",
       "      <td>NaN</td>\n",
       "      <td>1.0</td>\n",
       "      <td>NaN</td>\n",
       "      <td>NaN</td>\n",
       "      <td>NaN</td>\n",
       "      <td>NaN</td>\n",
       "      <td>NaN</td>\n",
       "      <td>NaN</td>\n",
       "      <td>NaN</td>\n",
       "      <td>NaN</td>\n",
       "      <td>NaN</td>\n",
       "    </tr>\n",
       "    <tr>\n",
       "      <th>Happiness Score</th>\n",
       "      <td>NaN</td>\n",
       "      <td>NaN</td>\n",
       "      <td>NaN</td>\n",
       "      <td>1.000000</td>\n",
       "      <td>NaN</td>\n",
       "      <td>0.780966</td>\n",
       "      <td>NaN</td>\n",
       "      <td>NaN</td>\n",
       "      <td>NaN</td>\n",
       "      <td>NaN</td>\n",
       "      <td>NaN</td>\n",
       "      <td>NaN</td>\n",
       "    </tr>\n",
       "    <tr>\n",
       "      <th>Standard Error</th>\n",
       "      <td>NaN</td>\n",
       "      <td>NaN</td>\n",
       "      <td>NaN</td>\n",
       "      <td>NaN</td>\n",
       "      <td>1.0</td>\n",
       "      <td>NaN</td>\n",
       "      <td>NaN</td>\n",
       "      <td>NaN</td>\n",
       "      <td>NaN</td>\n",
       "      <td>NaN</td>\n",
       "      <td>NaN</td>\n",
       "      <td>NaN</td>\n",
       "    </tr>\n",
       "    <tr>\n",
       "      <th>Economy (GDP per Capita)</th>\n",
       "      <td>NaN</td>\n",
       "      <td>NaN</td>\n",
       "      <td>NaN</td>\n",
       "      <td>0.780966</td>\n",
       "      <td>NaN</td>\n",
       "      <td>1.000000</td>\n",
       "      <td>NaN</td>\n",
       "      <td>0.816478</td>\n",
       "      <td>NaN</td>\n",
       "      <td>NaN</td>\n",
       "      <td>NaN</td>\n",
       "      <td>NaN</td>\n",
       "    </tr>\n",
       "    <tr>\n",
       "      <th>Family</th>\n",
       "      <td>NaN</td>\n",
       "      <td>NaN</td>\n",
       "      <td>NaN</td>\n",
       "      <td>NaN</td>\n",
       "      <td>NaN</td>\n",
       "      <td>NaN</td>\n",
       "      <td>1.0</td>\n",
       "      <td>NaN</td>\n",
       "      <td>NaN</td>\n",
       "      <td>NaN</td>\n",
       "      <td>NaN</td>\n",
       "      <td>NaN</td>\n",
       "    </tr>\n",
       "    <tr>\n",
       "      <th>Health (Life Expectancy)</th>\n",
       "      <td>NaN</td>\n",
       "      <td>NaN</td>\n",
       "      <td>NaN</td>\n",
       "      <td>NaN</td>\n",
       "      <td>NaN</td>\n",
       "      <td>0.816478</td>\n",
       "      <td>NaN</td>\n",
       "      <td>1.000000</td>\n",
       "      <td>NaN</td>\n",
       "      <td>NaN</td>\n",
       "      <td>NaN</td>\n",
       "      <td>NaN</td>\n",
       "    </tr>\n",
       "    <tr>\n",
       "      <th>Freedom</th>\n",
       "      <td>NaN</td>\n",
       "      <td>NaN</td>\n",
       "      <td>NaN</td>\n",
       "      <td>NaN</td>\n",
       "      <td>NaN</td>\n",
       "      <td>NaN</td>\n",
       "      <td>NaN</td>\n",
       "      <td>NaN</td>\n",
       "      <td>1.0</td>\n",
       "      <td>NaN</td>\n",
       "      <td>NaN</td>\n",
       "      <td>NaN</td>\n",
       "    </tr>\n",
       "    <tr>\n",
       "      <th>Trust (Government Corruption)</th>\n",
       "      <td>NaN</td>\n",
       "      <td>NaN</td>\n",
       "      <td>NaN</td>\n",
       "      <td>NaN</td>\n",
       "      <td>NaN</td>\n",
       "      <td>NaN</td>\n",
       "      <td>NaN</td>\n",
       "      <td>NaN</td>\n",
       "      <td>NaN</td>\n",
       "      <td>1.0</td>\n",
       "      <td>NaN</td>\n",
       "      <td>NaN</td>\n",
       "    </tr>\n",
       "    <tr>\n",
       "      <th>Generosity</th>\n",
       "      <td>NaN</td>\n",
       "      <td>NaN</td>\n",
       "      <td>NaN</td>\n",
       "      <td>NaN</td>\n",
       "      <td>NaN</td>\n",
       "      <td>NaN</td>\n",
       "      <td>NaN</td>\n",
       "      <td>NaN</td>\n",
       "      <td>NaN</td>\n",
       "      <td>NaN</td>\n",
       "      <td>1.0</td>\n",
       "      <td>NaN</td>\n",
       "    </tr>\n",
       "    <tr>\n",
       "      <th>Dystopia Residual</th>\n",
       "      <td>NaN</td>\n",
       "      <td>NaN</td>\n",
       "      <td>NaN</td>\n",
       "      <td>NaN</td>\n",
       "      <td>NaN</td>\n",
       "      <td>NaN</td>\n",
       "      <td>NaN</td>\n",
       "      <td>NaN</td>\n",
       "      <td>NaN</td>\n",
       "      <td>NaN</td>\n",
       "      <td>NaN</td>\n",
       "      <td>1.0</td>\n",
       "    </tr>\n",
       "  </tbody>\n",
       "</table>\n",
       "</div>"
      ],
      "text/plain": [
       "                               Country  Region  Happiness Rank  \\\n",
       "Country                            1.0     NaN             NaN   \n",
       "Region                             NaN     1.0             NaN   \n",
       "Happiness Rank                     NaN     NaN             1.0   \n",
       "Happiness Score                    NaN     NaN             NaN   \n",
       "Standard Error                     NaN     NaN             NaN   \n",
       "Economy (GDP per Capita)           NaN     NaN             NaN   \n",
       "Family                             NaN     NaN             NaN   \n",
       "Health (Life Expectancy)           NaN     NaN             NaN   \n",
       "Freedom                            NaN     NaN             NaN   \n",
       "Trust (Government Corruption)      NaN     NaN             NaN   \n",
       "Generosity                         NaN     NaN             NaN   \n",
       "Dystopia Residual                  NaN     NaN             NaN   \n",
       "\n",
       "                               Happiness Score  Standard Error  \\\n",
       "Country                                    NaN             NaN   \n",
       "Region                                     NaN             NaN   \n",
       "Happiness Rank                             NaN             NaN   \n",
       "Happiness Score                       1.000000             NaN   \n",
       "Standard Error                             NaN             1.0   \n",
       "Economy (GDP per Capita)              0.780966             NaN   \n",
       "Family                                     NaN             NaN   \n",
       "Health (Life Expectancy)                   NaN             NaN   \n",
       "Freedom                                    NaN             NaN   \n",
       "Trust (Government Corruption)              NaN             NaN   \n",
       "Generosity                                 NaN             NaN   \n",
       "Dystopia Residual                          NaN             NaN   \n",
       "\n",
       "                               Economy (GDP per Capita)  Family  \\\n",
       "Country                                             NaN     NaN   \n",
       "Region                                              NaN     NaN   \n",
       "Happiness Rank                                      NaN     NaN   \n",
       "Happiness Score                                0.780966     NaN   \n",
       "Standard Error                                      NaN     NaN   \n",
       "Economy (GDP per Capita)                       1.000000     NaN   \n",
       "Family                                              NaN     1.0   \n",
       "Health (Life Expectancy)                       0.816478     NaN   \n",
       "Freedom                                             NaN     NaN   \n",
       "Trust (Government Corruption)                       NaN     NaN   \n",
       "Generosity                                          NaN     NaN   \n",
       "Dystopia Residual                                   NaN     NaN   \n",
       "\n",
       "                               Health (Life Expectancy)  Freedom  \\\n",
       "Country                                             NaN      NaN   \n",
       "Region                                              NaN      NaN   \n",
       "Happiness Rank                                      NaN      NaN   \n",
       "Happiness Score                                     NaN      NaN   \n",
       "Standard Error                                      NaN      NaN   \n",
       "Economy (GDP per Capita)                       0.816478      NaN   \n",
       "Family                                              NaN      NaN   \n",
       "Health (Life Expectancy)                       1.000000      NaN   \n",
       "Freedom                                             NaN      1.0   \n",
       "Trust (Government Corruption)                       NaN      NaN   \n",
       "Generosity                                          NaN      NaN   \n",
       "Dystopia Residual                                   NaN      NaN   \n",
       "\n",
       "                               Trust (Government Corruption)  Generosity  \\\n",
       "Country                                                  NaN         NaN   \n",
       "Region                                                   NaN         NaN   \n",
       "Happiness Rank                                           NaN         NaN   \n",
       "Happiness Score                                          NaN         NaN   \n",
       "Standard Error                                           NaN         NaN   \n",
       "Economy (GDP per Capita)                                 NaN         NaN   \n",
       "Family                                                   NaN         NaN   \n",
       "Health (Life Expectancy)                                 NaN         NaN   \n",
       "Freedom                                                  NaN         NaN   \n",
       "Trust (Government Corruption)                            1.0         NaN   \n",
       "Generosity                                               NaN         1.0   \n",
       "Dystopia Residual                                        NaN         NaN   \n",
       "\n",
       "                               Dystopia Residual  \n",
       "Country                                      NaN  \n",
       "Region                                       NaN  \n",
       "Happiness Rank                               NaN  \n",
       "Happiness Score                              NaN  \n",
       "Standard Error                               NaN  \n",
       "Economy (GDP per Capita)                     NaN  \n",
       "Family                                       NaN  \n",
       "Health (Life Expectancy)                     NaN  \n",
       "Freedom                                      NaN  \n",
       "Trust (Government Corruption)                NaN  \n",
       "Generosity                                   NaN  \n",
       "Dystopia Residual                            1.0  "
      ]
     },
     "execution_count": 56,
     "metadata": {},
     "output_type": "execute_result"
    }
   ],
   "source": [
    "pos = cor[cor>0.75]\n",
    "pos"
   ]
  },
  {
   "cell_type": "markdown",
   "id": "823666b4",
   "metadata": {},
   "source": [
    "We can see that there are strong positive correlation between Score and economy , Economy and Health."
   ]
  },
  {
   "cell_type": "code",
   "execution_count": 57,
   "id": "18414e4d",
   "metadata": {},
   "outputs": [
    {
     "data": {
      "text/plain": [
       "Text(0, 0.5, 'Economy')"
      ]
     },
     "execution_count": 57,
     "metadata": {},
     "output_type": "execute_result"
    },
    {
     "data": {
      "image/png": "[encoded data removed]",
      "text/plain": [
       "<Figure size 2160x720 with 1 Axes>"
      ]
     },
     "metadata": {
      "needs_background": "light"
     },
     "output_type": "display_data"
    }
   ],
   "source": [
    "plt.figure(figsize=(30,10))\n",
    "plt.scatter(hs['Happiness Score'], hs['Economy (GDP per Capita)'], color='purple')\n",
    "plt.title('Happiness Score V/s Economy' , fontsize=40 , y =1.05)\n",
    "plt.xlabel('Happiness Score', fontsize=14)\n",
    "plt.ylabel(\"Economy\", fontsize=14)"
   ]
  },
  {
   "cell_type": "markdown",
   "id": "e9602466",
   "metadata": {},
   "source": [
    "The graph shows that Higher the Economy of the Country, Much a happier place to live. Although there are exceptions, as we have seen that Qatar has maximum Economy but still its not near to being a happiest country. This may prove that the strong economy is not the answer to the happiness."
   ]
  },
  {
   "cell_type": "code",
   "execution_count": 58,
   "id": "e56f3191",
   "metadata": {},
   "outputs": [
    {
     "data": {
      "text/plain": [
       "Text(0, 0.5, 'Health')"
      ]
     },
     "execution_count": 58,
     "metadata": {},
     "output_type": "execute_result"
    },
    {
     "data": {
      "image/png": "[encoded data removed]",
      "text/plain": [
       "<Figure size 2160x720 with 1 Axes>"
      ]
     },
     "metadata": {
      "needs_background": "light"
     },
     "output_type": "display_data"
    }
   ],
   "source": [
    "plt.figure(figsize=(30,10))\n",
    "plt.scatter(hs['Economy (GDP per Capita)'], hs[\"Health (Life Expectancy)\"], color='red')\n",
    "plt.title('Economy V/s Health' , fontsize=40 , y =1.05)\n",
    "plt.xlabel('Economy', fontsize=14)\n",
    "plt.ylabel(\"Health\", fontsize=14)"
   ]
  },
  {
   "cell_type": "markdown",
   "id": "dff3ee7d",
   "metadata": {},
   "source": [
    "Shows that higher the Economy, higher is the life Expectancy, but after a certain stage (economy>1.25) the life expectancy remains same even if the economy increases."
   ]
  },
  {
   "cell_type": "markdown",
   "id": "426725ff",
   "metadata": {},
   "source": [
    "# Removing Outliers"
   ]
  },
  {
   "cell_type": "code",
   "execution_count": 59,
   "id": "829f2199",
   "metadata": {},
   "outputs": [
    {
     "data": {
      "text/plain": [
       "(149, 12)"
      ]
     },
     "execution_count": 59,
     "metadata": {},
     "output_type": "execute_result"
    }
   ],
   "source": [
    "z=np.abs(zscore(hs))\n",
    "df = hs[(z<3).all(axis=1)]\n",
    "df.shape"
   ]
  },
  {
   "cell_type": "markdown",
   "id": "f13efbc7",
   "metadata": {},
   "source": [
    "After removing the outliers there are 149 rows and 12 columns. But in actual dataset there were 158 rows and 12 columns. Hence we lost 9 rows"
   ]
  },
  {
   "cell_type": "code",
   "execution_count": 60,
   "id": "d0f8df9b",
   "metadata": {},
   "outputs": [
    {
     "data": {
      "text/plain": [
       "0.056962025316455694"
      ]
     },
     "execution_count": 60,
     "metadata": {},
     "output_type": "execute_result"
    }
   ],
   "source": [
    "9/158"
   ]
  },
  {
   "cell_type": "markdown",
   "id": "f9790a67",
   "metadata": {},
   "source": [
    "The data loss is 5% which is in acceptable range. "
   ]
  },
  {
   "cell_type": "markdown",
   "id": "c49c5a51",
   "metadata": {},
   "source": [
    "# Skewness"
   ]
  },
  {
   "cell_type": "code",
   "execution_count": 61,
   "id": "9ad00530",
   "metadata": {},
   "outputs": [
    {
     "data": {
      "text/plain": [
       "Country                          0.048701\n",
       "Region                          -0.096985\n",
       "Happiness Rank                   0.003268\n",
       "Happiness Score                  0.169740\n",
       "Standard Error                   1.243048\n",
       "Economy (GDP per Capita)        -0.390657\n",
       "Family                          -0.811340\n",
       "Health (Life Expectancy)        -0.747711\n",
       "Freedom                         -0.400867\n",
       "Trust (Government Corruption)    1.272530\n",
       "Generosity                       0.654710\n",
       "Dystopia Residual               -0.021144\n",
       "dtype: float64"
      ]
     },
     "execution_count": 61,
     "metadata": {},
     "output_type": "execute_result"
    }
   ],
   "source": [
    "df.skew()"
   ]
  },
  {
   "cell_type": "markdown",
   "id": "26916cd7",
   "metadata": {},
   "source": [
    "There is skewness in  Standard Error , Family, Health, Trust and Generosity."
   ]
  },
  {
   "cell_type": "code",
   "execution_count": 62,
   "id": "2086bbe5",
   "metadata": {},
   "outputs": [],
   "source": [
    "df['Standard Error']=np.log(df[\"Standard Error\"])"
   ]
  },
  {
   "cell_type": "markdown",
   "id": "e869cd49",
   "metadata": {},
   "source": [
    "Treating the skewness of Standard error using log method."
   ]
  },
  {
   "cell_type": "code",
   "execution_count": 63,
   "id": "a554730a",
   "metadata": {},
   "outputs": [
    {
     "data": {
      "text/plain": [
       "0.12322043132563748"
      ]
     },
     "execution_count": 63,
     "metadata": {},
     "output_type": "execute_result"
    }
   ],
   "source": [
    "df['Standard Error'].skew()"
   ]
  },
  {
   "cell_type": "markdown",
   "id": "37b58c11",
   "metadata": {},
   "source": [
    "After treatment , there is no skewness in standard error"
   ]
  },
  {
   "cell_type": "code",
   "execution_count": 72,
   "id": "d25b1965",
   "metadata": {},
   "outputs": [],
   "source": [
    "df['Family']=np.log(df['Family'])"
   ]
  },
  {
   "cell_type": "markdown",
   "id": "d941bba7",
   "metadata": {},
   "source": [
    "Treating the skewness of Family using Log method"
   ]
  },
  {
   "cell_type": "code",
   "execution_count": 73,
   "id": "f1e0701d",
   "metadata": {},
   "outputs": [
    {
     "data": {
      "text/plain": [
       "nan"
      ]
     },
     "execution_count": 73,
     "metadata": {},
     "output_type": "execute_result"
    }
   ],
   "source": [
    "df[\"Family\"].skew()"
   ]
  },
  {
   "cell_type": "markdown",
   "id": "dadb3eb4",
   "metadata": {},
   "source": [
    "The skewness from Family has been removed successfully."
   ]
  },
  {
   "cell_type": "code",
   "execution_count": 74,
   "id": "00a02ec1",
   "metadata": {},
   "outputs": [],
   "source": [
    "df['Health (Life Expectancy)']=np.log(df['Health (Life Expectancy)'])"
   ]
  },
  {
   "cell_type": "markdown",
   "id": "fb1d4efa",
   "metadata": {},
   "source": [
    "Treating skewness of Health (Life Expectancy)"
   ]
  },
  {
   "cell_type": "code",
   "execution_count": 75,
   "id": "ad752e21",
   "metadata": {},
   "outputs": [
    {
     "data": {
      "text/plain": [
       "nan"
      ]
     },
     "execution_count": 75,
     "metadata": {},
     "output_type": "execute_result"
    }
   ],
   "source": [
    "df['Health (Life Expectancy)'].skew()"
   ]
  },
  {
   "cell_type": "markdown",
   "id": "a343ef61",
   "metadata": {},
   "source": [
    "The skewness has been treated successfully."
   ]
  },
  {
   "cell_type": "code",
   "execution_count": 76,
   "id": "0596acf1",
   "metadata": {},
   "outputs": [],
   "source": [
    "df['Trust (Government Corruption)']=np.log(df['Trust (Government Corruption)'])"
   ]
  },
  {
   "cell_type": "markdown",
   "id": "601cb2bc",
   "metadata": {},
   "source": [
    "Treating skewness of Trust (Government Corruption)"
   ]
  },
  {
   "cell_type": "code",
   "execution_count": 77,
   "id": "4d4b4454",
   "metadata": {},
   "outputs": [
    {
     "data": {
      "text/plain": [
       "nan"
      ]
     },
     "execution_count": 77,
     "metadata": {},
     "output_type": "execute_result"
    }
   ],
   "source": [
    "df['Trust (Government Corruption)'].skew()"
   ]
  },
  {
   "cell_type": "markdown",
   "id": "def36b01",
   "metadata": {},
   "source": [
    "The skewness of Trust (Government Corruption) has been removed"
   ]
  },
  {
   "cell_type": "code",
   "execution_count": 78,
   "id": "b9f38149",
   "metadata": {},
   "outputs": [],
   "source": [
    "df['Generosity']=np.log(df['Generosity'])"
   ]
  },
  {
   "cell_type": "markdown",
   "id": "4e671390",
   "metadata": {},
   "source": [
    "Treating skewness of Generosity"
   ]
  },
  {
   "cell_type": "code",
   "execution_count": 79,
   "id": "ebfa0efc",
   "metadata": {},
   "outputs": [
    {
     "data": {
      "text/plain": [
       "nan"
      ]
     },
     "execution_count": 79,
     "metadata": {},
     "output_type": "execute_result"
    }
   ],
   "source": [
    "df['Generosity'].skew()"
   ]
  },
  {
   "cell_type": "markdown",
   "id": "3fc7d06a",
   "metadata": {},
   "source": [
    "The skewness has been removed"
   ]
  },
  {
   "cell_type": "code",
   "execution_count": 83,
   "id": "3fd7cdc5",
   "metadata": {},
   "outputs": [],
   "source": [
    "x= df.drop(\"Happiness Score\", axis=1)\n",
    "y= df['Happiness Score']"
   ]
  },
  {
   "cell_type": "markdown",
   "id": "a1d48a40",
   "metadata": {},
   "source": [
    "Separating the columns into target(y) and features (x)"
   ]
  },
  {
   "cell_type": "code",
   "execution_count": 84,
   "id": "6b83bb77",
   "metadata": {},
   "outputs": [],
   "source": [
    "from sklearn.preprocessing import MinMaxScaler\n",
    "mns = MinMaxScaler()\n",
    "lr = LinearRegression()\n",
    "from sklearn.metrics import r2_score\n",
    "import warnings\n",
    "warnings.filterwarnings('ignore')"
   ]
  },
  {
   "cell_type": "markdown",
   "id": "572e7753",
   "metadata": {},
   "source": [
    "Importing the libraries"
   ]
  },
  {
   "cell_type": "code",
   "execution_count": 85,
   "id": "c5fc167f",
   "metadata": {},
   "outputs": [
    {
     "name": "stdout",
     "output_type": "stream",
     "text": [
      "0.9999999377888897\n"
     ]
    }
   ],
   "source": [
    "x_train,x_test,y_train,y_test = train_test_split(x,y,test_size=.33,random_state=45)\n",
    "lr.fit(x_train,y_train)\n",
    "pred_test=lr.predict(x_test)\n",
    "print(r2_score(y_test,pred_test))"
   ]
  },
  {
   "cell_type": "markdown",
   "id": "a46a1c2d",
   "metadata": {},
   "source": [
    "The r2 score of Linear Regression is 99.99%"
   ]
  },
  {
   "cell_type": "code",
   "execution_count": 87,
   "id": "6cd4d047",
   "metadata": {},
   "outputs": [
    {
     "ename": "ValueError",
     "evalue": "Expected 2D array, got 1D array instead:\narray=[4.874 7.587 3.678 4.218 5.194 7.522 4.077 4.571 5.102 6.411 4.55  3.819\n 7.278 4.297 5.474 4.369 5.429 3.656 3.956 5.759 3.655 6.295 4.252 4.61\n 5.995 5.192 4.332 5.709 3.995 7.427 6.329 6.575 6.168 5.073 4.885 3.989\n 4.686 6.75  5.36  7.187 6.67  5.124 6.505 6.455 5.689 6.003 7.561 4.867\n 3.904 6.853 5.754 4.436 3.587].\nReshape your data either using array.reshape(-1, 1) if your data has a single feature or array.reshape(1, -1) if it contains a single sample.",
     "output_type": "error",
     "traceback": [
      "\u001b[1;31m---------------------------------------------------------------------------\u001b[0m",
      "\u001b[1;31mValueError\u001b[0m                                Traceback (most recent call last)",
      "\u001b[1;32m<ipython-input-87-6193e6849720>\u001b[0m in \u001b[0;36m<module>\u001b[1;34m\u001b[0m\n\u001b[1;32m----> 1\u001b[1;33m \u001b[0mlr\u001b[0m\u001b[1;33m.\u001b[0m\u001b[0mpredict\u001b[0m\u001b[1;33m(\u001b[0m\u001b[0my_test\u001b[0m\u001b[1;33m)\u001b[0m\u001b[1;33m\u001b[0m\u001b[1;33m\u001b[0m\u001b[0m\n\u001b[0m",
      "\u001b[1;32m~\\anaconda3\\lib\\site-packages\\sklearn\\linear_model\\_base.py\u001b[0m in \u001b[0;36mpredict\u001b[1;34m(self, X)\u001b[0m\n\u001b[0;32m    236\u001b[0m             \u001b[0mReturns\u001b[0m \u001b[0mpredicted\u001b[0m \u001b[0mvalues\u001b[0m\u001b[1;33m.\u001b[0m\u001b[1;33m\u001b[0m\u001b[1;33m\u001b[0m\u001b[0m\n\u001b[0;32m    237\u001b[0m         \"\"\"\n\u001b[1;32m--> 238\u001b[1;33m         \u001b[1;32mreturn\u001b[0m \u001b[0mself\u001b[0m\u001b[1;33m.\u001b[0m\u001b[0m_decision_function\u001b[0m\u001b[1;33m(\u001b[0m\u001b[0mX\u001b[0m\u001b[1;33m)\u001b[0m\u001b[1;33m\u001b[0m\u001b[1;33m\u001b[0m\u001b[0m\n\u001b[0m\u001b[0;32m    239\u001b[0m \u001b[1;33m\u001b[0m\u001b[0m\n\u001b[0;32m    240\u001b[0m     \u001b[0m_preprocess_data\u001b[0m \u001b[1;33m=\u001b[0m \u001b[0mstaticmethod\u001b[0m\u001b[1;33m(\u001b[0m\u001b[0m_preprocess_data\u001b[0m\u001b[1;33m)\u001b[0m\u001b[1;33m\u001b[0m\u001b[1;33m\u001b[0m\u001b[0m\n",
      "\u001b[1;32m~\\anaconda3\\lib\\site-packages\\sklearn\\linear_model\\_base.py\u001b[0m in \u001b[0;36m_decision_function\u001b[1;34m(self, X)\u001b[0m\n\u001b[0;32m    218\u001b[0m         \u001b[0mcheck_is_fitted\u001b[0m\u001b[1;33m(\u001b[0m\u001b[0mself\u001b[0m\u001b[1;33m)\u001b[0m\u001b[1;33m\u001b[0m\u001b[1;33m\u001b[0m\u001b[0m\n\u001b[0;32m    219\u001b[0m \u001b[1;33m\u001b[0m\u001b[0m\n\u001b[1;32m--> 220\u001b[1;33m         \u001b[0mX\u001b[0m \u001b[1;33m=\u001b[0m \u001b[0mcheck_array\u001b[0m\u001b[1;33m(\u001b[0m\u001b[0mX\u001b[0m\u001b[1;33m,\u001b[0m \u001b[0maccept_sparse\u001b[0m\u001b[1;33m=\u001b[0m\u001b[1;33m[\u001b[0m\u001b[1;34m'csr'\u001b[0m\u001b[1;33m,\u001b[0m \u001b[1;34m'csc'\u001b[0m\u001b[1;33m,\u001b[0m \u001b[1;34m'coo'\u001b[0m\u001b[1;33m]\u001b[0m\u001b[1;33m)\u001b[0m\u001b[1;33m\u001b[0m\u001b[1;33m\u001b[0m\u001b[0m\n\u001b[0m\u001b[0;32m    221\u001b[0m         return safe_sparse_dot(X, self.coef_.T,\n\u001b[0;32m    222\u001b[0m                                dense_output=True) + self.intercept_\n",
      "\u001b[1;32m~\\anaconda3\\lib\\site-packages\\sklearn\\utils\\validation.py\u001b[0m in \u001b[0;36minner_f\u001b[1;34m(*args, **kwargs)\u001b[0m\n\u001b[0;32m     61\u001b[0m             \u001b[0mextra_args\u001b[0m \u001b[1;33m=\u001b[0m \u001b[0mlen\u001b[0m\u001b[1;33m(\u001b[0m\u001b[0margs\u001b[0m\u001b[1;33m)\u001b[0m \u001b[1;33m-\u001b[0m \u001b[0mlen\u001b[0m\u001b[1;33m(\u001b[0m\u001b[0mall_args\u001b[0m\u001b[1;33m)\u001b[0m\u001b[1;33m\u001b[0m\u001b[1;33m\u001b[0m\u001b[0m\n\u001b[0;32m     62\u001b[0m             \u001b[1;32mif\u001b[0m \u001b[0mextra_args\u001b[0m \u001b[1;33m<=\u001b[0m \u001b[1;36m0\u001b[0m\u001b[1;33m:\u001b[0m\u001b[1;33m\u001b[0m\u001b[1;33m\u001b[0m\u001b[0m\n\u001b[1;32m---> 63\u001b[1;33m                 \u001b[1;32mreturn\u001b[0m \u001b[0mf\u001b[0m\u001b[1;33m(\u001b[0m\u001b[1;33m*\u001b[0m\u001b[0margs\u001b[0m\u001b[1;33m,\u001b[0m \u001b[1;33m**\u001b[0m\u001b[0mkwargs\u001b[0m\u001b[1;33m)\u001b[0m\u001b[1;33m\u001b[0m\u001b[1;33m\u001b[0m\u001b[0m\n\u001b[0m\u001b[0;32m     64\u001b[0m \u001b[1;33m\u001b[0m\u001b[0m\n\u001b[0;32m     65\u001b[0m             \u001b[1;31m# extra_args > 0\u001b[0m\u001b[1;33m\u001b[0m\u001b[1;33m\u001b[0m\u001b[1;33m\u001b[0m\u001b[0m\n",
      "\u001b[1;32m~\\anaconda3\\lib\\site-packages\\sklearn\\utils\\validation.py\u001b[0m in \u001b[0;36mcheck_array\u001b[1;34m(array, accept_sparse, accept_large_sparse, dtype, order, copy, force_all_finite, ensure_2d, allow_nd, ensure_min_samples, ensure_min_features, estimator)\u001b[0m\n\u001b[0;32m    635\u001b[0m             \u001b[1;31m# If input is 1D raise error\u001b[0m\u001b[1;33m\u001b[0m\u001b[1;33m\u001b[0m\u001b[1;33m\u001b[0m\u001b[0m\n\u001b[0;32m    636\u001b[0m             \u001b[1;32mif\u001b[0m \u001b[0marray\u001b[0m\u001b[1;33m.\u001b[0m\u001b[0mndim\u001b[0m \u001b[1;33m==\u001b[0m \u001b[1;36m1\u001b[0m\u001b[1;33m:\u001b[0m\u001b[1;33m\u001b[0m\u001b[1;33m\u001b[0m\u001b[0m\n\u001b[1;32m--> 637\u001b[1;33m                 raise ValueError(\n\u001b[0m\u001b[0;32m    638\u001b[0m                     \u001b[1;34m\"Expected 2D array, got 1D array instead:\\narray={}.\\n\"\u001b[0m\u001b[1;33m\u001b[0m\u001b[1;33m\u001b[0m\u001b[0m\n\u001b[0;32m    639\u001b[0m                     \u001b[1;34m\"Reshape your data either using array.reshape(-1, 1) if \"\u001b[0m\u001b[1;33m\u001b[0m\u001b[1;33m\u001b[0m\u001b[0m\n",
      "\u001b[1;31mValueError\u001b[0m: Expected 2D array, got 1D array instead:\narray=[4.874 7.587 3.678 4.218 5.194 7.522 4.077 4.571 5.102 6.411 4.55  3.819\n 7.278 4.297 5.474 4.369 5.429 3.656 3.956 5.759 3.655 6.295 4.252 4.61\n 5.995 5.192 4.332 5.709 3.995 7.427 6.329 6.575 6.168 5.073 4.885 3.989\n 4.686 6.75  5.36  7.187 6.67  5.124 6.505 6.455 5.689 6.003 7.561 4.867\n 3.904 6.853 5.754 4.436 3.587].\nReshape your data either using array.reshape(-1, 1) if your data has a single feature or array.reshape(1, -1) if it contains a single sample."
     ]
    }
   ],
   "source": [
    "lr.predict(y_test)"
   ]
  },
  {
   "cell_type": "code",
   "execution_count": null,
   "id": "6f04f7a9",
   "metadata": {},
   "outputs": [],
   "source": []
  }
 ],
 "metadata": {
  "kernelspec": {
   "display_name": "Python 3",
   "language": "python",
   "name": "python3"
  },
  "language_info": {
   "codemirror_mode": {
    "name": "ipython",
    "version": 3
   },
   "file_extension": ".py",
   "mimetype": "text/x-python",
   "name": "python",
   "nbconvert_exporter": "python",
   "pygments_lexer": "ipython3",
   "version": "3.8.8"
  }
 },
 "nbformat": 4,
 "nbformat_minor": 5
}
